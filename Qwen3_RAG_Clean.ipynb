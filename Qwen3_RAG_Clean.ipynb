{
 "cells": [
  {
   "cell_type": "markdown",
   "metadata": {},
   "source": [
    "# Qwen3 RAG System - Complete Implementation\n",
    "\n",
    "A production-ready RAG (Retrieval-Augmented Generation) system using Qwen3 models with full answer generation capabilities.\n",
    "\n",
    "## Features\n",
    "- **PDF document processing** with intelligent chunking\n",
    "- **Qwen3 embeddings** for semantic search and retrieval\n",
    "- **Qwen3 reranker** for precision improvement\n",
    "- **Qwen3 LLM** for answer generation (true RAG!)\n",
    "- **ChromaDB vector store** with persistence\n",
    "- **Clean, modular architecture** following RAG best practices\n",
    "- **Complete pipeline**: Document → Embedding → Retrieval → Reranking → Generation\n",
    "\n",
    "## RAG Pipeline\n",
    "1. **Document Processing**: Load and chunk PDF documents\n",
    "2. **Embedding**: Convert text to vectors using Qwen3-Embedding\n",
    "3. **Storage**: Store in ChromaDB vector database\n",
    "4. **Retrieval**: Find relevant documents using semantic similarity\n",
    "5. **Reranking**: Improve precision with Qwen3-Reranker\n",
    "6. **Generation**: Generate natural language answers with Qwen3 LLM"
   ]
  },
  {
   "cell_type": "markdown",
   "metadata": {},
   "source": [
    "## Installation"
   ]
  },
  {
   "cell_type": "code",
   "execution_count": 1,
   "metadata": {},
   "outputs": [
    {
     "name": "stdout",
     "output_type": "stream",
     "text": [
      "\u001b[33mWARNING: Ignoring invalid distribution ~vidia-cublas-cu12 (/home/behrooz/.conda/envs/behrooz/lib/python3.11/site-packages)\u001b[0m\u001b[33m\n",
      "\u001b[0m\u001b[33mWARNING: Ignoring invalid distribution ~vidia-cublas-cu12 (/home/behrooz/.conda/envs/behrooz/lib/python3.11/site-packages)\u001b[0m\u001b[33m\n",
      "\u001b[0mRequirement already satisfied: transformers in /home/behrooz/.conda/envs/behrooz/lib/python3.11/site-packages (4.53.2)\n",
      "Requirement already satisfied: sentence-transformers in /home/behrooz/.conda/envs/behrooz/lib/python3.11/site-packages (5.0.0)\n",
      "Requirement already satisfied: vllm in /home/behrooz/.conda/envs/behrooz/lib/python3.11/site-packages (0.9.2)\n",
      "Requirement already satisfied: flash-attn in /home/behrooz/.conda/envs/behrooz/lib/python3.11/site-packages (2.8.1)\n",
      "Requirement already satisfied: chromadb in /home/behrooz/.conda/envs/behrooz/lib/python3.11/site-packages (1.0.15)\n",
      "Requirement already satisfied: PyPDF2 in /home/behrooz/.conda/envs/behrooz/lib/python3.11/site-packages (3.0.1)\n",
      "Requirement already satisfied: filelock in /home/behrooz/.conda/envs/behrooz/lib/python3.11/site-packages (from transformers) (3.18.0)\n",
      "Requirement already satisfied: huggingface-hub<1.0,>=0.30.0 in /home/behrooz/.conda/envs/behrooz/lib/python3.11/site-packages (from transformers) (0.33.2)\n",
      "Requirement already satisfied: numpy>=1.17 in /home/behrooz/.conda/envs/behrooz/lib/python3.11/site-packages (from transformers) (1.26.4)\n",
      "Requirement already satisfied: packaging>=20.0 in /home/behrooz/.conda/envs/behrooz/lib/python3.11/site-packages (from transformers) (25.0)\n",
      "Requirement already satisfied: pyyaml>=5.1 in /home/behrooz/.conda/envs/behrooz/lib/python3.11/site-packages (from transformers) (6.0.2)\n",
      "Requirement already satisfied: regex!=2019.12.17 in /home/behrooz/.conda/envs/behrooz/lib/python3.11/site-packages (from transformers) (2024.11.6)\n",
      "Requirement already satisfied: requests in /home/behrooz/.conda/envs/behrooz/lib/python3.11/site-packages (from transformers) (2.32.4)\n",
      "Requirement already satisfied: tokenizers<0.22,>=0.21 in /home/behrooz/.conda/envs/behrooz/lib/python3.11/site-packages (from transformers) (0.21.2)\n",
      "Requirement already satisfied: safetensors>=0.4.3 in /home/behrooz/.conda/envs/behrooz/lib/python3.11/site-packages (from transformers) (0.5.3)\n",
      "Requirement already satisfied: tqdm>=4.27 in /home/behrooz/.conda/envs/behrooz/lib/python3.11/site-packages (from transformers) (4.67.1)\n",
      "Requirement already satisfied: fsspec>=2023.5.0 in /home/behrooz/.conda/envs/behrooz/lib/python3.11/site-packages (from huggingface-hub<1.0,>=0.30.0->transformers) (2025.3.0)\n",
      "Requirement already satisfied: typing-extensions>=3.7.4.3 in /home/behrooz/.conda/envs/behrooz/lib/python3.11/site-packages (from huggingface-hub<1.0,>=0.30.0->transformers) (4.14.1)\n",
      "Requirement already satisfied: hf-xet<2.0.0,>=1.1.2 in /home/behrooz/.conda/envs/behrooz/lib/python3.11/site-packages (from huggingface-hub<1.0,>=0.30.0->transformers) (1.1.5)\n",
      "Requirement already satisfied: torch>=1.11.0 in /home/behrooz/.conda/envs/behrooz/lib/python3.11/site-packages (from sentence-transformers) (2.7.0)\n",
      "Requirement already satisfied: scikit-learn in /home/behrooz/.conda/envs/behrooz/lib/python3.11/site-packages (from sentence-transformers) (1.6.1)\n",
      "Requirement already satisfied: scipy in /home/behrooz/.conda/envs/behrooz/lib/python3.11/site-packages (from sentence-transformers) (1.15.3)\n",
      "Requirement already satisfied: Pillow in /home/behrooz/.conda/envs/behrooz/lib/python3.11/site-packages (from sentence-transformers) (11.3.0)\n",
      "Requirement already satisfied: cachetools in /home/behrooz/.conda/envs/behrooz/lib/python3.11/site-packages (from vllm) (5.5.2)\n",
      "Requirement already satisfied: psutil in /home/behrooz/.conda/envs/behrooz/lib/python3.11/site-packages (from vllm) (7.0.0)\n",
      "Requirement already satisfied: sentencepiece in /home/behrooz/.conda/envs/behrooz/lib/python3.11/site-packages (from vllm) (0.2.0)\n",
      "Requirement already satisfied: blake3 in /home/behrooz/.conda/envs/behrooz/lib/python3.11/site-packages (from vllm) (1.0.5)\n",
      "Requirement already satisfied: py-cpuinfo in /home/behrooz/.conda/envs/behrooz/lib/python3.11/site-packages (from vllm) (9.0.0)\n",
      "Requirement already satisfied: protobuf in /home/behrooz/.conda/envs/behrooz/lib/python3.11/site-packages (from vllm) (3.20.3)\n",
      "Requirement already satisfied: fastapi>=0.115.0 in /home/behrooz/.conda/envs/behrooz/lib/python3.11/site-packages (from fastapi[standard]>=0.115.0->vllm) (0.115.12)\n",
      "Requirement already satisfied: aiohttp in /home/behrooz/.conda/envs/behrooz/lib/python3.11/site-packages (from vllm) (3.12.14)\n",
      "Requirement already satisfied: openai<=1.90.0,>=1.52.0 in /home/behrooz/.conda/envs/behrooz/lib/python3.11/site-packages (from vllm) (1.86.0)\n",
      "Requirement already satisfied: pydantic>=2.10 in /home/behrooz/.conda/envs/behrooz/lib/python3.11/site-packages (from vllm) (2.11.5)\n",
      "Requirement already satisfied: prometheus_client>=0.18.0 in /home/behrooz/.conda/envs/behrooz/lib/python3.11/site-packages (from vllm) (0.22.0)\n",
      "Requirement already satisfied: prometheus-fastapi-instrumentator>=7.0.0 in /home/behrooz/.conda/envs/behrooz/lib/python3.11/site-packages (from vllm) (7.1.0)\n",
      "Requirement already satisfied: tiktoken>=0.6.0 in /home/behrooz/.conda/envs/behrooz/lib/python3.11/site-packages (from vllm) (0.9.0)\n",
      "Requirement already satisfied: lm-format-enforcer<0.11,>=0.10.11 in /home/behrooz/.conda/envs/behrooz/lib/python3.11/site-packages (from vllm) (0.10.11)\n",
      "Requirement already satisfied: llguidance<0.8.0,>=0.7.11 in /home/behrooz/.conda/envs/behrooz/lib/python3.11/site-packages (from vllm) (0.7.29)\n",
      "Requirement already satisfied: outlines==0.1.11 in /home/behrooz/.conda/envs/behrooz/lib/python3.11/site-packages (from vllm) (0.1.11)\n",
      "Requirement already satisfied: lark==1.2.2 in /home/behrooz/.conda/envs/behrooz/lib/python3.11/site-packages (from vllm) (1.2.2)\n",
      "Requirement already satisfied: xgrammar==0.1.19 in /home/behrooz/.conda/envs/behrooz/lib/python3.11/site-packages (from vllm) (0.1.19)\n",
      "Requirement already satisfied: partial-json-parser in /home/behrooz/.conda/envs/behrooz/lib/python3.11/site-packages (from vllm) (0.2.1.1.post5)\n",
      "Requirement already satisfied: pyzmq>=25.0.0 in /home/behrooz/.conda/envs/behrooz/lib/python3.11/site-packages (from vllm) (26.4.0)\n",
      "Requirement already satisfied: msgspec in /home/behrooz/.conda/envs/behrooz/lib/python3.11/site-packages (from vllm) (0.19.0)\n",
      "Requirement already satisfied: gguf>=0.13.0 in /home/behrooz/.conda/envs/behrooz/lib/python3.11/site-packages (from vllm) (0.17.0)\n",
      "Requirement already satisfied: mistral_common>=1.6.2 in /home/behrooz/.conda/envs/behrooz/lib/python3.11/site-packages (from mistral_common[opencv]>=1.6.2->vllm) (1.7.0)\n",
      "Requirement already satisfied: opencv-python-headless>=4.11.0 in /home/behrooz/.conda/envs/behrooz/lib/python3.11/site-packages (from vllm) (4.11.0.86)\n",
      "Requirement already satisfied: einops in /home/behrooz/.conda/envs/behrooz/lib/python3.11/site-packages (from vllm) (0.8.1)\n",
      "Requirement already satisfied: compressed-tensors==0.10.2 in /home/behrooz/.conda/envs/behrooz/lib/python3.11/site-packages (from vllm) (0.10.2)\n",
      "Requirement already satisfied: depyf==0.18.0 in /home/behrooz/.conda/envs/behrooz/lib/python3.11/site-packages (from vllm) (0.18.0)\n",
      "Requirement already satisfied: cloudpickle in /home/behrooz/.conda/envs/behrooz/lib/python3.11/site-packages (from vllm) (3.1.1)\n",
      "Requirement already satisfied: watchfiles in /home/behrooz/.conda/envs/behrooz/lib/python3.11/site-packages (from vllm) (1.0.5)\n",
      "Requirement already satisfied: python-json-logger in /home/behrooz/.conda/envs/behrooz/lib/python3.11/site-packages (from vllm) (3.3.0)\n",
      "Requirement already satisfied: ninja in /home/behrooz/.conda/envs/behrooz/lib/python3.11/site-packages (from vllm) (1.11.1.4)\n",
      "Requirement already satisfied: pybase64 in /home/behrooz/.conda/envs/behrooz/lib/python3.11/site-packages (from vllm) (1.4.1)\n",
      "Requirement already satisfied: numba==0.61.2 in /home/behrooz/.conda/envs/behrooz/lib/python3.11/site-packages (from vllm) (0.61.2)\n",
      "Requirement already satisfied: ray!=2.44.*,>=2.43.0 in /home/behrooz/.conda/envs/behrooz/lib/python3.11/site-packages (from ray[cgraph]!=2.44.*,>=2.43.0->vllm) (2.46.0)\n",
      "Requirement already satisfied: torchaudio==2.7.0 in /home/behrooz/.conda/envs/behrooz/lib/python3.11/site-packages (from vllm) (2.7.0)\n",
      "Requirement already satisfied: torchvision==0.22.0 in /home/behrooz/.conda/envs/behrooz/lib/python3.11/site-packages (from vllm) (0.22.0)\n",
      "Requirement already satisfied: xformers==0.0.30 in /home/behrooz/.conda/envs/behrooz/lib/python3.11/site-packages (from vllm) (0.0.30)\n",
      "Requirement already satisfied: astor in /home/behrooz/.conda/envs/behrooz/lib/python3.11/site-packages (from depyf==0.18.0->vllm) (0.8.1)\n",
      "Requirement already satisfied: dill in /home/behrooz/.conda/envs/behrooz/lib/python3.11/site-packages (from depyf==0.18.0->vllm) (0.3.8)\n",
      "Requirement already satisfied: llvmlite<0.45,>=0.44.0dev0 in /home/behrooz/.conda/envs/behrooz/lib/python3.11/site-packages (from numba==0.61.2->vllm) (0.44.0)\n",
      "Requirement already satisfied: interegular in /home/behrooz/.conda/envs/behrooz/lib/python3.11/site-packages (from outlines==0.1.11->vllm) (0.3.3)\n",
      "Requirement already satisfied: jinja2 in /home/behrooz/.conda/envs/behrooz/lib/python3.11/site-packages (from outlines==0.1.11->vllm) (3.1.6)\n",
      "Requirement already satisfied: nest_asyncio in /home/behrooz/.conda/envs/behrooz/lib/python3.11/site-packages (from outlines==0.1.11->vllm) (1.6.0)\n",
      "Requirement already satisfied: diskcache in /home/behrooz/.conda/envs/behrooz/lib/python3.11/site-packages (from outlines==0.1.11->vllm) (5.6.3)\n",
      "Requirement already satisfied: referencing in /home/behrooz/.conda/envs/behrooz/lib/python3.11/site-packages (from outlines==0.1.11->vllm) (0.36.2)\n",
      "Requirement already satisfied: jsonschema in /home/behrooz/.conda/envs/behrooz/lib/python3.11/site-packages (from outlines==0.1.11->vllm) (4.24.0)\n",
      "Requirement already satisfied: pycountry in /home/behrooz/.conda/envs/behrooz/lib/python3.11/site-packages (from outlines==0.1.11->vllm) (24.6.1)\n",
      "Requirement already satisfied: airportsdata in /home/behrooz/.conda/envs/behrooz/lib/python3.11/site-packages (from outlines==0.1.11->vllm) (20250523)\n",
      "Requirement already satisfied: outlines_core==0.1.26 in /home/behrooz/.conda/envs/behrooz/lib/python3.11/site-packages (from outlines==0.1.11->vllm) (0.1.26)\n",
      "Requirement already satisfied: sympy>=1.13.3 in /home/behrooz/.conda/envs/behrooz/lib/python3.11/site-packages (from torch>=1.11.0->sentence-transformers) (1.14.0)\n",
      "Requirement already satisfied: networkx in /home/behrooz/.conda/envs/behrooz/lib/python3.11/site-packages (from torch>=1.11.0->sentence-transformers) (3.5)\n",
      "Requirement already satisfied: nvidia-cuda-nvrtc-cu12==12.6.77 in /home/behrooz/.conda/envs/behrooz/lib/python3.11/site-packages (from torch>=1.11.0->sentence-transformers) (12.6.77)\n",
      "Requirement already satisfied: nvidia-cuda-runtime-cu12==12.6.77 in /home/behrooz/.conda/envs/behrooz/lib/python3.11/site-packages (from torch>=1.11.0->sentence-transformers) (12.6.77)\n",
      "Requirement already satisfied: nvidia-cuda-cupti-cu12==12.6.80 in /home/behrooz/.conda/envs/behrooz/lib/python3.11/site-packages (from torch>=1.11.0->sentence-transformers) (12.6.80)\n",
      "Requirement already satisfied: nvidia-cudnn-cu12==9.5.1.17 in /home/behrooz/.conda/envs/behrooz/lib/python3.11/site-packages (from torch>=1.11.0->sentence-transformers) (9.5.1.17)\n",
      "Requirement already satisfied: nvidia-cublas-cu12==12.6.4.1 in /home/behrooz/.conda/envs/behrooz/lib/python3.11/site-packages (from torch>=1.11.0->sentence-transformers) (12.6.4.1)\n",
      "Requirement already satisfied: nvidia-cufft-cu12==11.3.0.4 in /home/behrooz/.conda/envs/behrooz/lib/python3.11/site-packages (from torch>=1.11.0->sentence-transformers) (11.3.0.4)\n",
      "Requirement already satisfied: nvidia-curand-cu12==10.3.7.77 in /home/behrooz/.conda/envs/behrooz/lib/python3.11/site-packages (from torch>=1.11.0->sentence-transformers) (10.3.7.77)\n",
      "Requirement already satisfied: nvidia-cusolver-cu12==11.7.1.2 in /home/behrooz/.conda/envs/behrooz/lib/python3.11/site-packages (from torch>=1.11.0->sentence-transformers) (11.7.1.2)\n",
      "Requirement already satisfied: nvidia-cusparse-cu12==12.5.4.2 in /home/behrooz/.conda/envs/behrooz/lib/python3.11/site-packages (from torch>=1.11.0->sentence-transformers) (12.5.4.2)\n",
      "Requirement already satisfied: nvidia-cusparselt-cu12==0.6.3 in /home/behrooz/.conda/envs/behrooz/lib/python3.11/site-packages (from torch>=1.11.0->sentence-transformers) (0.6.3)\n",
      "Requirement already satisfied: nvidia-nccl-cu12==2.26.2 in /home/behrooz/.conda/envs/behrooz/lib/python3.11/site-packages (from torch>=1.11.0->sentence-transformers) (2.26.2)\n",
      "Requirement already satisfied: nvidia-nvtx-cu12==12.6.77 in /home/behrooz/.conda/envs/behrooz/lib/python3.11/site-packages (from torch>=1.11.0->sentence-transformers) (12.6.77)\n",
      "Requirement already satisfied: nvidia-nvjitlink-cu12==12.6.85 in /home/behrooz/.conda/envs/behrooz/lib/python3.11/site-packages (from torch>=1.11.0->sentence-transformers) (12.6.85)\n",
      "Requirement already satisfied: nvidia-cufile-cu12==1.11.1.6 in /home/behrooz/.conda/envs/behrooz/lib/python3.11/site-packages (from torch>=1.11.0->sentence-transformers) (1.11.1.6)\n",
      "Requirement already satisfied: triton==3.3.0 in /home/behrooz/.conda/envs/behrooz/lib/python3.11/site-packages (from torch>=1.11.0->sentence-transformers) (3.3.0)\n",
      "Requirement already satisfied: setuptools>=40.8.0 in /home/behrooz/.conda/envs/behrooz/lib/python3.11/site-packages (from triton==3.3.0->torch>=1.11.0->sentence-transformers) (80.9.0)\n",
      "Requirement already satisfied: anyio<5,>=3.5.0 in /home/behrooz/.conda/envs/behrooz/lib/python3.11/site-packages (from openai<=1.90.0,>=1.52.0->vllm) (4.9.0)\n",
      "Requirement already satisfied: distro<2,>=1.7.0 in /home/behrooz/.conda/envs/behrooz/lib/python3.11/site-packages (from openai<=1.90.0,>=1.52.0->vllm) (1.9.0)\n",
      "Requirement already satisfied: httpx<1,>=0.23.0 in /home/behrooz/.conda/envs/behrooz/lib/python3.11/site-packages (from openai<=1.90.0,>=1.52.0->vllm) (0.28.1)\n",
      "Requirement already satisfied: jiter<1,>=0.4.0 in /home/behrooz/.conda/envs/behrooz/lib/python3.11/site-packages (from openai<=1.90.0,>=1.52.0->vllm) (0.10.0)\n",
      "Requirement already satisfied: sniffio in /home/behrooz/.conda/envs/behrooz/lib/python3.11/site-packages (from openai<=1.90.0,>=1.52.0->vllm) (1.3.1)\n",
      "Requirement already satisfied: idna>=2.8 in /home/behrooz/.conda/envs/behrooz/lib/python3.11/site-packages (from anyio<5,>=3.5.0->openai<=1.90.0,>=1.52.0->vllm) (3.10)\n",
      "Requirement already satisfied: certifi in /home/behrooz/.conda/envs/behrooz/lib/python3.11/site-packages (from httpx<1,>=0.23.0->openai<=1.90.0,>=1.52.0->vllm) (2025.7.9)\n",
      "Requirement already satisfied: httpcore==1.* in /home/behrooz/.conda/envs/behrooz/lib/python3.11/site-packages (from httpx<1,>=0.23.0->openai<=1.90.0,>=1.52.0->vllm) (1.0.9)\n",
      "Requirement already satisfied: h11>=0.16 in /home/behrooz/.conda/envs/behrooz/lib/python3.11/site-packages (from httpcore==1.*->httpx<1,>=0.23.0->openai<=1.90.0,>=1.52.0->vllm) (0.16.0)\n",
      "Requirement already satisfied: annotated-types>=0.6.0 in /home/behrooz/.conda/envs/behrooz/lib/python3.11/site-packages (from pydantic>=2.10->vllm) (0.7.0)\n",
      "Requirement already satisfied: pydantic-core==2.33.2 in /home/behrooz/.conda/envs/behrooz/lib/python3.11/site-packages (from pydantic>=2.10->vllm) (2.33.2)\n",
      "Requirement already satisfied: typing-inspection>=0.4.0 in /home/behrooz/.conda/envs/behrooz/lib/python3.11/site-packages (from pydantic>=2.10->vllm) (0.4.1)\n",
      "Requirement already satisfied: build>=1.0.3 in /home/behrooz/.conda/envs/behrooz/lib/python3.11/site-packages (from chromadb) (1.2.2.post1)\n",
      "Requirement already satisfied: uvicorn>=0.18.3 in /home/behrooz/.conda/envs/behrooz/lib/python3.11/site-packages (from uvicorn[standard]>=0.18.3->chromadb) (0.34.3)\n",
      "Requirement already satisfied: posthog<6.0.0,>=2.4.0 in /home/behrooz/.conda/envs/behrooz/lib/python3.11/site-packages (from chromadb) (5.4.0)\n",
      "Requirement already satisfied: onnxruntime>=1.14.1 in /home/behrooz/.conda/envs/behrooz/lib/python3.11/site-packages (from chromadb) (1.22.1)\n",
      "Requirement already satisfied: opentelemetry-api>=1.2.0 in /home/behrooz/.conda/envs/behrooz/lib/python3.11/site-packages (from chromadb) (1.27.0)\n",
      "Requirement already satisfied: opentelemetry-exporter-otlp-proto-grpc>=1.2.0 in /home/behrooz/.conda/envs/behrooz/lib/python3.11/site-packages (from chromadb) (1.27.0)\n",
      "Requirement already satisfied: opentelemetry-sdk>=1.2.0 in /home/behrooz/.conda/envs/behrooz/lib/python3.11/site-packages (from chromadb) (1.27.0)\n",
      "Requirement already satisfied: pypika>=0.48.9 in /home/behrooz/.conda/envs/behrooz/lib/python3.11/site-packages (from chromadb) (0.48.9)\n",
      "Requirement already satisfied: overrides>=7.3.1 in /home/behrooz/.conda/envs/behrooz/lib/python3.11/site-packages (from chromadb) (7.7.0)\n",
      "Requirement already satisfied: importlib-resources in /home/behrooz/.conda/envs/behrooz/lib/python3.11/site-packages (from chromadb) (6.5.2)\n",
      "Requirement already satisfied: grpcio>=1.58.0 in /home/behrooz/.conda/envs/behrooz/lib/python3.11/site-packages (from chromadb) (1.71.0)\n",
      "Requirement already satisfied: bcrypt>=4.0.1 in /home/behrooz/.conda/envs/behrooz/lib/python3.11/site-packages (from chromadb) (4.3.0)\n",
      "Requirement already satisfied: typer>=0.9.0 in /home/behrooz/.conda/envs/behrooz/lib/python3.11/site-packages (from chromadb) (0.16.0)\n",
      "Requirement already satisfied: kubernetes>=28.1.0 in /home/behrooz/.conda/envs/behrooz/lib/python3.11/site-packages (from chromadb) (33.1.0)\n",
      "Requirement already satisfied: tenacity>=8.2.3 in /home/behrooz/.conda/envs/behrooz/lib/python3.11/site-packages (from chromadb) (9.1.2)\n",
      "Requirement already satisfied: mmh3>=4.0.1 in /home/behrooz/.conda/envs/behrooz/lib/python3.11/site-packages (from chromadb) (5.1.0)\n",
      "Requirement already satisfied: orjson>=3.9.12 in /home/behrooz/.conda/envs/behrooz/lib/python3.11/site-packages (from chromadb) (3.10.18)\n",
      "Requirement already satisfied: rich>=10.11.0 in /home/behrooz/.conda/envs/behrooz/lib/python3.11/site-packages (from chromadb) (14.0.0)\n",
      "Requirement already satisfied: six>=1.5 in /home/behrooz/.conda/envs/behrooz/lib/python3.11/site-packages (from posthog<6.0.0,>=2.4.0->chromadb) (1.17.0)\n",
      "Requirement already satisfied: python-dateutil>=2.2 in /home/behrooz/.conda/envs/behrooz/lib/python3.11/site-packages (from posthog<6.0.0,>=2.4.0->chromadb) (2.9.0.post0)\n",
      "Requirement already satisfied: backoff>=1.10.0 in /home/behrooz/.conda/envs/behrooz/lib/python3.11/site-packages (from posthog<6.0.0,>=2.4.0->chromadb) (2.2.1)\n",
      "Requirement already satisfied: charset_normalizer<4,>=2 in /home/behrooz/.conda/envs/behrooz/lib/python3.11/site-packages (from requests->transformers) (3.4.2)\n",
      "Requirement already satisfied: urllib3<3,>=1.21.1 in /home/behrooz/.conda/envs/behrooz/lib/python3.11/site-packages (from requests->transformers) (2.5.0)\n",
      "Requirement already satisfied: pyproject_hooks in /home/behrooz/.conda/envs/behrooz/lib/python3.11/site-packages (from build>=1.0.3->chromadb) (1.2.0)\n",
      "Requirement already satisfied: starlette<0.47.0,>=0.40.0 in /home/behrooz/.conda/envs/behrooz/lib/python3.11/site-packages (from fastapi>=0.115.0->fastapi[standard]>=0.115.0->vllm) (0.46.2)\n",
      "Requirement already satisfied: fastapi-cli>=0.0.5 in /home/behrooz/.conda/envs/behrooz/lib/python3.11/site-packages (from fastapi-cli[standard]>=0.0.5; extra == \"standard\"->fastapi[standard]>=0.115.0->vllm) (0.0.7)\n",
      "Requirement already satisfied: python-multipart>=0.0.18 in /home/behrooz/.conda/envs/behrooz/lib/python3.11/site-packages (from fastapi[standard]>=0.115.0->vllm) (0.0.20)\n",
      "Requirement already satisfied: email-validator>=2.0.0 in /home/behrooz/.conda/envs/behrooz/lib/python3.11/site-packages (from fastapi[standard]>=0.115.0->vllm) (2.2.0)\n",
      "Requirement already satisfied: dnspython>=2.0.0 in /home/behrooz/.conda/envs/behrooz/lib/python3.11/site-packages (from email-validator>=2.0.0->fastapi[standard]>=0.115.0->vllm) (2.7.0)\n",
      "Requirement already satisfied: rich-toolkit>=0.11.1 in /home/behrooz/.conda/envs/behrooz/lib/python3.11/site-packages (from fastapi-cli>=0.0.5->fastapi-cli[standard]>=0.0.5; extra == \"standard\"->fastapi[standard]>=0.115.0->vllm) (0.14.7)\n",
      "Requirement already satisfied: MarkupSafe>=2.0 in /home/behrooz/.conda/envs/behrooz/lib/python3.11/site-packages (from jinja2->outlines==0.1.11->vllm) (3.0.2)\n",
      "Requirement already satisfied: attrs>=22.2.0 in /home/behrooz/.conda/envs/behrooz/lib/python3.11/site-packages (from jsonschema->outlines==0.1.11->vllm) (25.3.0)\n",
      "Requirement already satisfied: jsonschema-specifications>=2023.03.6 in /home/behrooz/.conda/envs/behrooz/lib/python3.11/site-packages (from jsonschema->outlines==0.1.11->vllm) (2025.4.1)\n",
      "Requirement already satisfied: rpds-py>=0.7.1 in /home/behrooz/.conda/envs/behrooz/lib/python3.11/site-packages (from jsonschema->outlines==0.1.11->vllm) (0.25.1)\n",
      "Requirement already satisfied: google-auth>=1.0.1 in /home/behrooz/.conda/envs/behrooz/lib/python3.11/site-packages (from kubernetes>=28.1.0->chromadb) (2.40.2)\n",
      "Requirement already satisfied: websocket-client!=0.40.0,!=0.41.*,!=0.42.*,>=0.32.0 in /home/behrooz/.conda/envs/behrooz/lib/python3.11/site-packages (from kubernetes>=28.1.0->chromadb) (1.8.0)\n",
      "Requirement already satisfied: requests-oauthlib in /home/behrooz/.conda/envs/behrooz/lib/python3.11/site-packages (from kubernetes>=28.1.0->chromadb) (2.0.0)\n",
      "Requirement already satisfied: oauthlib>=3.2.2 in /home/behrooz/.conda/envs/behrooz/lib/python3.11/site-packages (from kubernetes>=28.1.0->chromadb) (3.3.1)\n",
      "Requirement already satisfied: durationpy>=0.7 in /home/behrooz/.conda/envs/behrooz/lib/python3.11/site-packages (from kubernetes>=28.1.0->chromadb) (0.10)\n",
      "Requirement already satisfied: pyasn1-modules>=0.2.1 in /home/behrooz/.conda/envs/behrooz/lib/python3.11/site-packages (from google-auth>=1.0.1->kubernetes>=28.1.0->chromadb) (0.4.2)\n",
      "Requirement already satisfied: rsa<5,>=3.1.4 in /home/behrooz/.conda/envs/behrooz/lib/python3.11/site-packages (from google-auth>=1.0.1->kubernetes>=28.1.0->chromadb) (4.9.1)\n",
      "Requirement already satisfied: pyasn1>=0.1.3 in /home/behrooz/.conda/envs/behrooz/lib/python3.11/site-packages (from rsa<5,>=3.1.4->google-auth>=1.0.1->kubernetes>=28.1.0->chromadb) (0.6.1)\n",
      "Requirement already satisfied: coloredlogs in /home/behrooz/.conda/envs/behrooz/lib/python3.11/site-packages (from onnxruntime>=1.14.1->chromadb) (15.0.1)\n",
      "Requirement already satisfied: flatbuffers in /home/behrooz/.conda/envs/behrooz/lib/python3.11/site-packages (from onnxruntime>=1.14.1->chromadb) (25.2.10)\n",
      "Requirement already satisfied: deprecated>=1.2.6 in /home/behrooz/.conda/envs/behrooz/lib/python3.11/site-packages (from opentelemetry-api>=1.2.0->chromadb) (1.2.18)\n",
      "Requirement already satisfied: importlib-metadata<=8.4.0,>=6.0 in /home/behrooz/.conda/envs/behrooz/lib/python3.11/site-packages (from opentelemetry-api>=1.2.0->chromadb) (8.4.0)\n",
      "Requirement already satisfied: zipp>=0.5 in /home/behrooz/.conda/envs/behrooz/lib/python3.11/site-packages (from importlib-metadata<=8.4.0,>=6.0->opentelemetry-api>=1.2.0->chromadb) (3.23.0)\n",
      "Requirement already satisfied: wrapt<2,>=1.10 in /home/behrooz/.conda/envs/behrooz/lib/python3.11/site-packages (from deprecated>=1.2.6->opentelemetry-api>=1.2.0->chromadb) (1.17.2)\n",
      "Requirement already satisfied: googleapis-common-protos~=1.52 in /home/behrooz/.conda/envs/behrooz/lib/python3.11/site-packages (from opentelemetry-exporter-otlp-proto-grpc>=1.2.0->chromadb) (1.70.0)\n",
      "Requirement already satisfied: opentelemetry-exporter-otlp-proto-common==1.27.0 in /home/behrooz/.conda/envs/behrooz/lib/python3.11/site-packages (from opentelemetry-exporter-otlp-proto-grpc>=1.2.0->chromadb) (1.27.0)\n",
      "Requirement already satisfied: opentelemetry-proto==1.27.0 in /home/behrooz/.conda/envs/behrooz/lib/python3.11/site-packages (from opentelemetry-exporter-otlp-proto-grpc>=1.2.0->chromadb) (1.27.0)\n",
      "Requirement already satisfied: opentelemetry-semantic-conventions==0.48b0 in /home/behrooz/.conda/envs/behrooz/lib/python3.11/site-packages (from opentelemetry-sdk>=1.2.0->chromadb) (0.48b0)\n",
      "Requirement already satisfied: click>=7.0 in /home/behrooz/.conda/envs/behrooz/lib/python3.11/site-packages (from ray!=2.44.*,>=2.43.0->ray[cgraph]!=2.44.*,>=2.43.0->vllm) (8.2.1)\n",
      "Requirement already satisfied: msgpack<2.0.0,>=1.0.0 in /home/behrooz/.conda/envs/behrooz/lib/python3.11/site-packages (from ray!=2.44.*,>=2.43.0->ray[cgraph]!=2.44.*,>=2.43.0->vllm) (1.1.0)\n",
      "Requirement already satisfied: cupy-cuda12x in /home/behrooz/.conda/envs/behrooz/lib/python3.11/site-packages (from ray[cgraph]!=2.44.*,>=2.43.0->vllm) (13.4.1)\n",
      "Requirement already satisfied: markdown-it-py>=2.2.0 in /home/behrooz/.conda/envs/behrooz/lib/python3.11/site-packages (from rich>=10.11.0->chromadb) (3.0.0)\n",
      "Requirement already satisfied: pygments<3.0.0,>=2.13.0 in /home/behrooz/.conda/envs/behrooz/lib/python3.11/site-packages (from rich>=10.11.0->chromadb) (2.19.2)\n",
      "Requirement already satisfied: mdurl~=0.1 in /home/behrooz/.conda/envs/behrooz/lib/python3.11/site-packages (from markdown-it-py>=2.2.0->rich>=10.11.0->chromadb) (0.1.2)\n",
      "Requirement already satisfied: mpmath<1.4,>=1.1.0 in /home/behrooz/.conda/envs/behrooz/lib/python3.11/site-packages (from sympy>=1.13.3->torch>=1.11.0->sentence-transformers) (1.3.0)\n",
      "Requirement already satisfied: shellingham>=1.3.0 in /home/behrooz/.conda/envs/behrooz/lib/python3.11/site-packages (from typer>=0.9.0->chromadb) (1.5.4)\n",
      "Requirement already satisfied: httptools>=0.6.3 in /home/behrooz/.conda/envs/behrooz/lib/python3.11/site-packages (from uvicorn[standard]>=0.18.3->chromadb) (0.6.4)\n",
      "Requirement already satisfied: python-dotenv>=0.13 in /home/behrooz/.conda/envs/behrooz/lib/python3.11/site-packages (from uvicorn[standard]>=0.18.3->chromadb) (1.1.0)\n",
      "Requirement already satisfied: uvloop>=0.15.1 in /home/behrooz/.conda/envs/behrooz/lib/python3.11/site-packages (from uvicorn[standard]>=0.18.3->chromadb) (0.21.0)\n",
      "Requirement already satisfied: websockets>=10.4 in /home/behrooz/.conda/envs/behrooz/lib/python3.11/site-packages (from uvicorn[standard]>=0.18.3->chromadb) (15.0.1)\n",
      "Requirement already satisfied: aiohappyeyeballs>=2.5.0 in /home/behrooz/.conda/envs/behrooz/lib/python3.11/site-packages (from aiohttp->vllm) (2.6.1)\n",
      "Requirement already satisfied: aiosignal>=1.4.0 in /home/behrooz/.conda/envs/behrooz/lib/python3.11/site-packages (from aiohttp->vllm) (1.4.0)\n",
      "Requirement already satisfied: frozenlist>=1.1.1 in /home/behrooz/.conda/envs/behrooz/lib/python3.11/site-packages (from aiohttp->vllm) (1.7.0)\n",
      "Requirement already satisfied: multidict<7.0,>=4.5 in /home/behrooz/.conda/envs/behrooz/lib/python3.11/site-packages (from aiohttp->vllm) (6.6.3)\n",
      "Requirement already satisfied: propcache>=0.2.0 in /home/behrooz/.conda/envs/behrooz/lib/python3.11/site-packages (from aiohttp->vllm) (0.3.2)\n",
      "Requirement already satisfied: yarl<2.0,>=1.17.0 in /home/behrooz/.conda/envs/behrooz/lib/python3.11/site-packages (from aiohttp->vllm) (1.20.1)\n",
      "Requirement already satisfied: humanfriendly>=9.1 in /home/behrooz/.conda/envs/behrooz/lib/python3.11/site-packages (from coloredlogs->onnxruntime>=1.14.1->chromadb) (10.0)\n",
      "Requirement already satisfied: fastrlock>=0.5 in /home/behrooz/.conda/envs/behrooz/lib/python3.11/site-packages (from cupy-cuda12x->ray[cgraph]!=2.44.*,>=2.43.0->vllm) (0.8.3)\n",
      "Requirement already satisfied: joblib>=1.2.0 in /home/behrooz/.conda/envs/behrooz/lib/python3.11/site-packages (from scikit-learn->sentence-transformers) (1.5.1)\n",
      "Requirement already satisfied: threadpoolctl>=3.1.0 in /home/behrooz/.conda/envs/behrooz/lib/python3.11/site-packages (from scikit-learn->sentence-transformers) (3.6.0)\n",
      "\u001b[33mWARNING: Ignoring invalid distribution ~vidia-cublas-cu12 (/home/behrooz/.conda/envs/behrooz/lib/python3.11/site-packages)\u001b[0m\u001b[33m\n",
      "\u001b[0m\u001b[33mWARNING: Ignoring invalid distribution ~vidia-cublas-cu12 (/home/behrooz/.conda/envs/behrooz/lib/python3.11/site-packages)\u001b[0m\u001b[33m\n",
      "\u001b[0m"
     ]
    }
   ],
   "source": [
    "!pip install transformers sentence-transformers vllm flash-attn chromadb PyPDF2"
   ]
  },
  {
   "cell_type": "markdown",
   "metadata": {},
   "source": [
    "## Import and Setup"
   ]
  },
  {
   "cell_type": "code",
   "execution_count": 3,
   "metadata": {},
   "outputs": [],
   "source": [
    "from qwen3_rag import Qwen3RAG, RAGConfig\n",
    "import logging\n",
    "import os\n",
    "\n",
    "# Setup logging\n",
    "logging.basicConfig(level=logging.INFO)\n",
    "logger = logging.getLogger(__name__)"
   ]
  },
  {
   "cell_type": "markdown",
   "metadata": {},
   "source": [
    "## Configuration"
   ]
  },
  {
   "cell_type": "code",
   "execution_count": 4,
   "metadata": {},
   "outputs": [
    {
     "name": "stdout",
     "output_type": "stream",
     "text": [
      "Configuration: RAGConfig(embedding_model='Qwen/Qwen3-Embedding-0.6B', reranker_model='Qwen/Qwen3-Reranker-0.6B', generator_model='Qwen/Qwen2.5-1.5B-Instruct', chunk_size=512, chunk_overlap=50, top_k_retrieval=20, top_k_rerank=5, similarity_threshold=0.3, device='cuda:0', collection_name='my_documents', persist_directory='./my_chroma_db', max_context_length=4000, generation_temperature=0.1, generation_max_tokens=512)\n"
     ]
    }
   ],
   "source": [
    "# Configure RAG system\n",
    "config = RAGConfig(\n",
    "    chunk_size=512,\n",
    "    chunk_overlap=50,\n",
    "    top_k_retrieval=20,\n",
    "    top_k_rerank=5,\n",
    "    similarity_threshold=0.3,\n",
    "    device=\"cuda:0\",\n",
    "    collection_name=\"my_documents\",\n",
    "    persist_directory=\"./my_chroma_db\"\n",
    ")\n",
    "\n",
    "print(f\"Configuration: {config}\")"
   ]
  },
  {
   "cell_type": "markdown",
   "metadata": {},
   "source": [
    "## Initialize RAG System"
   ]
  },
  {
   "cell_type": "code",
   "execution_count": 5,
   "metadata": {},
   "outputs": [
    {
     "name": "stderr",
     "output_type": "stream",
     "text": [
      "INFO:qwen3_rag:Loading embedding model: Qwen/Qwen3-Embedding-0.6B\n",
      "INFO:sentence_transformers.SentenceTransformer:Use pytorch device_name: cuda:0\n",
      "INFO:sentence_transformers.SentenceTransformer:Load pretrained SentenceTransformer: Qwen/Qwen3-Embedding-0.6B\n",
      "INFO:accelerate.utils.modeling:We will use 90% of the memory on device 0 for storing the model, and 10% for the buffer to avoid OOM. You can set `max_memory` in to a higher value to use more memory (at your own risk).\n",
      "INFO:sentence_transformers.SentenceTransformer:1 prompt is loaded, with the key: query\n",
      "INFO:qwen3_rag:Loaded existing collection: my_documents\n",
      "INFO:qwen3_rag:Processing query: What is  Amazon’s total revenue grew in 2023?\n"
     ]
    },
    {
     "name": "stdout",
     "output_type": "stream",
     "text": [
      "=== Query Results (Retrieval Only) ===\n",
      "\n",
      "Query: What is  Amazon’s total revenue grew in 2023?\n"
     ]
    },
    {
     "data": {
      "application/vnd.jupyter.widget-view+json": {
       "model_id": "b19fdabea8d54a47b6b4cd281e6653f9",
       "version_major": 2,
       "version_minor": 0
      },
      "text/plain": [
       "Batches:   0%|          | 0/1 [00:00<?, ?it/s]"
      ]
     },
     "metadata": {},
     "output_type": "display_data"
    },
    {
     "name": "stderr",
     "output_type": "stream",
     "text": [
      "INFO:qwen3_rag:Loading reranker model: Qwen/Qwen3-Reranker-0.6B\n",
      "INFO:qwen3_rag:Reranking documents...\n",
      "INFO:qwen3_rag:Processing query: What are the areas of focus in 2024 for Amazon?\n"
     ]
    },
    {
     "name": "stdout",
     "output_type": "stream",
     "text": [
      "Found 5 relevant documents\n",
      "  1. [Similarity: 0.739] [Rerank: 0.999] [Source: ./data/Amazon-com-Inc-2023-Shareholder-Letter.pdf]\n",
      "     --- Page 1 --- Dear Shareholders: Last year at this time, I shared my enthusiasm and optimism for Amazon’s future. Today, I have even more. The reason...\" if len(doc) > 150 else f\"     --- Page 1 --- Dear Shareholders: Last year at this time, I shared my enthusiasm and optimism for Amazon’s future. Today, I have even more. The reasons are many, but start with the progress we’ve made in our financial results and customerexperiences, and extend to our continued innovation and the remarkable opportunities in front of us. In 2023, Amazon’s total revenue grew 12% year-over-year (“Y oY”) from $514B to $575B. By segment, North America revenue increased 12% Y oY from $316B to $353B, International revenue grew 11% Y oY from$118B to $131B, and AWS revenue increased 13% Y oY from $80B to $91B. Further, Amazon’s operating income and Free Cash Flow (“FCF”) dramatically improved. Operating income in 2023 improved 201% Y oY from $12.2B (an operating margin of 2.4%) to $36.9B (an operatingmargin of 6.4%). Trailing Twelve Month FCF adjusted for equipment finance leases improved from -$12.8Bin 2022 to $35.5B (up $48.3B). While we’ve made meaningful progress on our financial measures, what we’re most pleased about is the continued customer experience improvements across our businesses. In our Stores business, customers have enthusiastically responded to our relentless focus on selection, price, and convenience. We continue to have the broadest retail selection, with hundreds of millions of products available, tens of millions added last year alone, and several premium brands starting to list on Amazon(e.g. Coach, Victoria’s Secret, Pit Viper, Martha Stewart, Clinique, Lancôme, and Urban Decay). Being sharp on price is always important, but particularly in an uncertain economy, where customers are careful about how much they’re spending. As a result, in Q4 2023, we kicked off the holiday season with Prime Big Deal Days, an exclusive event for Prime members to provide an early start on holiday shopping. Thiswas followed by our extended Black Friday and Cyber Monday holiday shopping event, open to all customers,that became our largest revenue event ever. For all of 2023, customers saved nearly $24B across millions ofdeals and coupons, almost 70% more than the prior year. We also continue to improve delivery speeds, breaking multiple company records. In 2023, Amazon delivered at the fastest speeds ever to Prime members, with more than 7 billion items arriving same or next day, including more than 4 billion in the U.S. and more than 2 billion in Europe. In the U.S., this result is thecombination of two things. One is the benefit of regionalization, where we re-architected the network tostore items closer to customers. The other is the expansion of same-day facilities, where in 2023, we increasedthe number of items delivered same day or overnight by nearly 70% Y oY . As we get items to customers thisfast, customers choose Amazon to fulfill their shopping needs more frequently, and we can see the results invarious areas including how fast our everyday essentials business is growing (over 20% Y oY in Q4 2023). Our regionalization efforts have also trimmed transportation distances, helping lower our cost to serve. In 2023, for the first time since 2018, we reduced our cost to serve on a per unit basis globally. In the U.S. alone,\n",
      "  2. [Similarity: 0.568] [Rerank: 0.983] [Source: ./data/Amazon-com-Inc-2023-Shareholder-Letter.pdf]\n",
      "     everyday essentials business is growing (over 20% Y oY in Q4 2023). Our regionalization efforts have also trimmed transportation distances, helping lo...\" if len(doc) > 150 else f\"     everyday essentials business is growing (over 20% Y oY in Q4 2023). Our regionalization efforts have also trimmed transportation distances, helping lower our cost to serve. In 2023, for the first time since 2018, we reduced our cost to serve on a per unit basis globally. In the U.S. alone, cost to serve was down by more than $0.45 per unit Y oY . Decreasing cost to serve allows us both to investin speed improvements and afford adding more selection at lower Average Selling Prices (“ASPs”). Moreselection at lower prices puts us in consideration for more purchases. As we look toward 2024 (and beyond), we’re not done lowering our cost to serve. We’ve challenged every closely held belief in our fulfillment network, and reevaluated every part of it, and found several areas where we believe we can lower costs even further while also delivering faster for customers. Our inbound fulfillmentarchitecture and resulting inventory placement are areas of focus in 2024, and we have optimism there’smore upside for us. Internationally, we like the trajectory of our established countries, and see meaningful progress in our emerging geographies (e.g. India, Brazil, Australia, Mexico, Middle East, Africa, etc.) as they continue to --- Page 2 --- expand selection and features, and move toward profitability (in Q4 2023, Mexico became our latest international Stores locale to turn profitable). We have high conviction that these new geographies willcontinue to grow and be profitable in the long run. Alongside our Stores business, Amazon’s Advertising progress remains strong, growing 24% Y oY from $38B in 2022 to $47B in 2023, primarily driven by our sponsored ads. We’ve added Sponsored TV to this offering, a self-service solution for brands to create campaigns that can appear on up to 30+ streamingTV services, including Amazon Freevee and Twitch, and have no minimum spend. Recently, we’ve expandedour streaming TV advertising by introducing ads into Prime Video shows and movies, where brands canreach over 200 million monthly viewers in our most popular entertainment offerings, across hit movies andshows, award-winning Amazon MGM Originals, and live sports like Thursday Night Football . Streaming TV advertising is growing quickly and off to a strong start. Shifting to AWS, we started 2023 seeing substantial cost optimization, with most companies trying to save money in an uncertain economy. Much of this optimization was catalyzed by AWS helping customers use the cloud more efficiently and leverage more powerful, price-performant AWS capabilities like Graviton chips(our generalized CPU chips that provide ~40% better price-performance than other leading x86 processors),S3 Intelligent Tiering (a storage class that uses AI to detect objects accessed less frequently and store themin less expensive storage layers), and Savings Plans (which give customers lower prices in exchange for longercommitments). This work diminished short-term revenue, but was best for customers, much appreciated,and should bode well for customers and AWS longer-term. By the end of 2023, we saw cost optimizationattenuating, new deals accelerating, customers renewing at larger commitments over longer time periods, andmigrations growing again. The past year was also a significant delivery year for AWS. We announced our next generation of\n",
      "  3. [Similarity: 0.504] [Rerank: 0.797] [Source: ./data/Amazon-com-Inc-2023-Shareholder-Letter.pdf]\n",
      "     with a cloudcomputing business at nearly a $100B revenue run rate, more than 85% of the global IT spend is still --- Page 8 --- on-premises. These bus...\" if len(doc) > 150 else f\"     with a cloudcomputing business at nearly a $100B revenue run rate, more than 85% of the global IT spend is still --- Page 8 --- on-premises. These businesses will keep shifting online and into the cloud. In Media and Advertising, content will continue to migrate from linear formats to streaming. Globally, hundreds of millions of peoplewho don’t have adequate broadband access will gain that connectivity in the next few years. Last butcertainly not least, Generative AI may be the largest technology transformation since the cloud (whichitself, is still in the early stages), and perhaps since the Internet. Unlike the mass modernization of on-premises infrastructure to the cloud, where there’s work required to migrate, this GenAI revolution will bebuilt from the start on top of the cloud. The amount of societal and business benefit from the solutions thatwill be possible will astound us all. There has never been a time in Amazon’s history where we’ve felt there is so much opportunity to make our customers’ lives better and easier. We’re incredibly excited about what’s possible, focused on inventing thefuture, and look forward to working together to make it so. Sincerely, Andy Jassy President and Chief Executive OfficerAmazon.com, Inc. P .S. As we have always done, our original 1997 Shareholder Letter follows. What’s written there is as true today as it was in 1997. --- Page 9 --- 1997 LETTER TO SHAREHOLDERS (Reprinted from the 1997 Annual Report) To our shareholders: Amazon.com passed many milestones in 1997: by year-end, we had served more than 1.5 million customers, yielding 838% revenue growth to $147.8 million, and extended our market leadership despite aggressivecompetitive entry. But this is Day 1 for the Internet and, if we execute well, for Amazon.com. Today, online commerce saves customers money and precious time. Tomorrow, through personalization, online commerce will accelerate thevery process of discovery. Amazon.com uses the Internet to create real value for its customers and, by doing so,hopes to create an enduring franchise, even in established and large markets. We have a window of opportunity as larger players marshal the resources to pursue the online opportunity and as customers, new to purchasing online, are receptive to forming new relationships. The competitivelandscape has continued to evolve at a fast pace. Many large players have moved online with credible offeringsand have devoted substantial energy and resources to building awareness, traffic, and sales. Our goal is to movequickly to solidify and extend our current position while we begin to pursue the online commerce opportunitiesin other areas. We see substantial opportunity in the large markets we are targeting. This strategy is not withoutrisk: it requires serious investment and crisp execution against established franchise leaders. It’s All About the Long Term We believe that a fundamental measure of our success will be the shareholder value we create over the long term. This value will be a direct result of our ability to extend and solidify our current market leadership position. The stronger our market leadership, the more powerful our economic model. Market leadership can translatedirectly to higher revenue, higher profitability, greater capital velocity, and correspondingly\n",
      "  4. [Similarity: 0.585] [Rerank: 0.648] [Source: ./data/Amazon-com-Inc-2023-Shareholder-Letter.pdf]\n",
      "     appreciated,and should bode well for customers and AWS longer-term. By the end of 2023, we saw cost optimizationattenuating, new deals accelerating, c...\" if len(doc) > 150 else f\"     appreciated,and should bode well for customers and AWS longer-term. By the end of 2023, we saw cost optimizationattenuating, new deals accelerating, customers renewing at larger commitments over longer time periods, andmigrations growing again. The past year was also a significant delivery year for AWS. We announced our next generation of generalized CPU chips (Graviton4), which provides up to 30% better compute performance and 75% more memorybandwidth than its already-leading predecessor (Graviton3). We also announced AWS Trainium2 chips,which will deliver up to four times faster machine learning training for generative AI applications and threetimes more memory capacity than Trainium1. We continued expanding our AWS infrastructure footprint,now offering 105 Availability Zones within 33 geographic Regions globally, with six new Regions coming(Malaysia, Mexico, New Zealand, the Kingdom of Saudi Arabia, Thailand, and a second German regionin Berlin). In Generative AI (“GenAI”), we added dozens of features to Amazon SageMaker to make it easierfor developers to build new Foundation Models (“FMs”). We invented and delivered a new service (AmazonBedrock) that lets companies leverage existing FMs to build GenAI applications. And, we launched themost capable coding assistant around in Amazon Q. Customers are excited about these capabilities, and we’reseeing significant traction in our GenAI offerings. (More on how we’re approaching GenAI and why webelieve we’ll be successful later in the letter.) We’re also making progress on many of our newer business investments that have the potential to be important to customers and Amazon long-term. Touching on two of them: We have increasing conviction that Prime Video can be a large and profitable business on its own. This confidence is buoyed by the continued development of compelling, exclusive content (e.g. Thursday Night Football, Lord of the Rings, Reacher, The Boys, Citadel, Road House , etc.), Prime Video customers’ engagement with this content, growth in our marketplace programs (through our third-party Channels program, aswell as the broad selection of shows and movies customers rent or buy), and the addition of advertising inPrime Video. In October, we hit a major milestone in our journey to commercialize Project Kuiper when we launched two end-to-end prototype satellites into space, and successfully validated all key systems and sub-systems— rare in an initial launch like this. Kuiper is our low Earth orbit satellite initiative that aims to providebroadband connectivity to the 400-500 million households who don’t have it today (as well as governmentsand enterprises seeking better connectivity and performance in more remote areas), and is a very large revenueopportunity for Amazon. We’re on track to launch our first production satellites in 2024. We’ve still got along way to go, but are encouraged by our progress. Overall, 2023 was a strong year, and I’m grateful to our collective teams who delivered on behalf of customers. These results represent a lot of invention, collaboration, discipline, execution, and reimagination --- Page 3 --- across Amazon. Yet, I think every one of us at Amazon believes that we have a long way to go, in every one of our businesses, before we exhaust how we can make customers’ lives better and easier, and there isconsiderable upside in each\n",
      "  5. [Similarity: 0.462] [Rerank: 0.003] [Source: ./data/Amazon-com-Inc-2023-Shareholder-Letter.pdf]\n",
      "     to our initial public offering in May 1997 and our $75 million loan, affording us substantial strategic flexibility. Our Employees The past year’s suc...\" if len(doc) > 150 else f\"     to our initial public offering in May 1997 and our $75 million loan, affording us substantial strategic flexibility. Our Employees The past year’s success is the product of a talented, smart, hard-working group, and I take great pride in being a part of this team. Setting the bar high in our approach to hiring has been, and will continue to be, thesingle most important element of Amazon.com’s success. It’s not easy to work here (when I interview people I tell them, “Y ou can work long, hard, or smart, but at Amazon.com you can’t choose two out of three”), but we are working to build something important, somethingthat matters to our customers, something that we can all tell our grandchildren about. Such things aren’t meant tobe easy. We are incredibly fortunate to have this group of dedicated employees whose sacrifices and passionbuild Amazon.com. Goals for 1998 We are still in the early stages of learning how to bring new value to our customers through Internet commerce and merchandising. Our goal remains to continue to solidify and extend our brand and customer base.This requires sustained investment in systems and infrastructure to support outstanding customer convenience,selection, and service while we grow. We are planning to add music to our product offering, and over time webelieve that other products may be prudent investments. We also believe there are significant opportunities tobetter serve our customers overseas, such as reducing delivery times and better tailoring the customer experience.To be certain, a big part of the challenge for us will lie not in finding new ways to expand our business, but inprioritizing our investments. We now know vastly more about online commerce than when Amazon.com was founded, but we still have so much to learn. Though we are optimistic, we must remain vigilant and maintain a sense of urgency. Thechallenges and hurdles we will face to make our long-term vision for Amazon.com a reality are several:aggressive, capable, well-funded competition; considerable growth challenges and execution risk; the risks ofproduct and geographic expansion; and the need for large continuing investments to meet an expanding marketopportunity. However, as we’ve long said, online bookselling, and online commerce in general, should prove tobe a very large market, and it’s likely that a number of companies will see significant benefit. We feel good aboutwhat we’ve done, and even more excited about what we want to do. 1997 was indeed an incredible year. We at Amazon.com are grateful to our customers for their business and trust, to each other for our hard work, and to our shareholders for their support and encouragement. Jeffrey P . BezosFounder and Chief Executive OfficerAmazon.com, Inc.\n",
      "--------------------------------------------------------------------------------\n",
      "\n",
      "Query: What are the areas of focus in 2024 for Amazon?\n"
     ]
    },
    {
     "data": {
      "application/vnd.jupyter.widget-view+json": {
       "model_id": "1d7954377a7b4e7586fd7de4d770a85f",
       "version_major": 2,
       "version_minor": 0
      },
      "text/plain": [
       "Batches:   0%|          | 0/1 [00:00<?, ?it/s]"
      ]
     },
     "metadata": {},
     "output_type": "display_data"
    },
    {
     "name": "stderr",
     "output_type": "stream",
     "text": [
      "INFO:qwen3_rag:Reranking documents...\n"
     ]
    },
    {
     "name": "stdout",
     "output_type": "stream",
     "text": [
      "Found 5 relevant documents\n",
      "  1. [Similarity: 0.569] [Rerank: 0.996] [Source: ./data/Amazon-com-Inc-2023-Shareholder-Letter.pdf]\n",
      "     everyday essentials business is growing (over 20% Y oY in Q4 2023). Our regionalization efforts have also trimmed transportation distances, helping lo...\" if len(doc) > 150 else f\"     everyday essentials business is growing (over 20% Y oY in Q4 2023). Our regionalization efforts have also trimmed transportation distances, helping lower our cost to serve. In 2023, for the first time since 2018, we reduced our cost to serve on a per unit basis globally. In the U.S. alone, cost to serve was down by more than $0.45 per unit Y oY . Decreasing cost to serve allows us both to investin speed improvements and afford adding more selection at lower Average Selling Prices (“ASPs”). Moreselection at lower prices puts us in consideration for more purchases. As we look toward 2024 (and beyond), we’re not done lowering our cost to serve. We’ve challenged every closely held belief in our fulfillment network, and reevaluated every part of it, and found several areas where we believe we can lower costs even further while also delivering faster for customers. Our inbound fulfillmentarchitecture and resulting inventory placement are areas of focus in 2024, and we have optimism there’smore upside for us. Internationally, we like the trajectory of our established countries, and see meaningful progress in our emerging geographies (e.g. India, Brazil, Australia, Mexico, Middle East, Africa, etc.) as they continue to --- Page 2 --- expand selection and features, and move toward profitability (in Q4 2023, Mexico became our latest international Stores locale to turn profitable). We have high conviction that these new geographies willcontinue to grow and be profitable in the long run. Alongside our Stores business, Amazon’s Advertising progress remains strong, growing 24% Y oY from $38B in 2022 to $47B in 2023, primarily driven by our sponsored ads. We’ve added Sponsored TV to this offering, a self-service solution for brands to create campaigns that can appear on up to 30+ streamingTV services, including Amazon Freevee and Twitch, and have no minimum spend. Recently, we’ve expandedour streaming TV advertising by introducing ads into Prime Video shows and movies, where brands canreach over 200 million monthly viewers in our most popular entertainment offerings, across hit movies andshows, award-winning Amazon MGM Originals, and live sports like Thursday Night Football . Streaming TV advertising is growing quickly and off to a strong start. Shifting to AWS, we started 2023 seeing substantial cost optimization, with most companies trying to save money in an uncertain economy. Much of this optimization was catalyzed by AWS helping customers use the cloud more efficiently and leverage more powerful, price-performant AWS capabilities like Graviton chips(our generalized CPU chips that provide ~40% better price-performance than other leading x86 processors),S3 Intelligent Tiering (a storage class that uses AI to detect objects accessed less frequently and store themin less expensive storage layers), and Savings Plans (which give customers lower prices in exchange for longercommitments). This work diminished short-term revenue, but was best for customers, much appreciated,and should bode well for customers and AWS longer-term. By the end of 2023, we saw cost optimizationattenuating, new deals accelerating, customers renewing at larger commitments over longer time periods, andmigrations growing again. The past year was also a significant delivery year for AWS. We announced our next generation of\n",
      "  2. [Similarity: 0.599] [Rerank: 0.967] [Source: ./data/Amazon-com-Inc-2023-Shareholder-Letter.pdf]\n",
      "     appreciated,and should bode well for customers and AWS longer-term. By the end of 2023, we saw cost optimizationattenuating, new deals accelerating, c...\" if len(doc) > 150 else f\"     appreciated,and should bode well for customers and AWS longer-term. By the end of 2023, we saw cost optimizationattenuating, new deals accelerating, customers renewing at larger commitments over longer time periods, andmigrations growing again. The past year was also a significant delivery year for AWS. We announced our next generation of generalized CPU chips (Graviton4), which provides up to 30% better compute performance and 75% more memorybandwidth than its already-leading predecessor (Graviton3). We also announced AWS Trainium2 chips,which will deliver up to four times faster machine learning training for generative AI applications and threetimes more memory capacity than Trainium1. We continued expanding our AWS infrastructure footprint,now offering 105 Availability Zones within 33 geographic Regions globally, with six new Regions coming(Malaysia, Mexico, New Zealand, the Kingdom of Saudi Arabia, Thailand, and a second German regionin Berlin). In Generative AI (“GenAI”), we added dozens of features to Amazon SageMaker to make it easierfor developers to build new Foundation Models (“FMs”). We invented and delivered a new service (AmazonBedrock) that lets companies leverage existing FMs to build GenAI applications. And, we launched themost capable coding assistant around in Amazon Q. Customers are excited about these capabilities, and we’reseeing significant traction in our GenAI offerings. (More on how we’re approaching GenAI and why webelieve we’ll be successful later in the letter.) We’re also making progress on many of our newer business investments that have the potential to be important to customers and Amazon long-term. Touching on two of them: We have increasing conviction that Prime Video can be a large and profitable business on its own. This confidence is buoyed by the continued development of compelling, exclusive content (e.g. Thursday Night Football, Lord of the Rings, Reacher, The Boys, Citadel, Road House , etc.), Prime Video customers’ engagement with this content, growth in our marketplace programs (through our third-party Channels program, aswell as the broad selection of shows and movies customers rent or buy), and the addition of advertising inPrime Video. In October, we hit a major milestone in our journey to commercialize Project Kuiper when we launched two end-to-end prototype satellites into space, and successfully validated all key systems and sub-systems— rare in an initial launch like this. Kuiper is our low Earth orbit satellite initiative that aims to providebroadband connectivity to the 400-500 million households who don’t have it today (as well as governmentsand enterprises seeking better connectivity and performance in more remote areas), and is a very large revenueopportunity for Amazon. We’re on track to launch our first production satellites in 2024. We’ve still got along way to go, but are encouraged by our progress. Overall, 2023 was a strong year, and I’m grateful to our collective teams who delivered on behalf of customers. These results represent a lot of invention, collaboration, discipline, execution, and reimagination --- Page 3 --- across Amazon. Yet, I think every one of us at Amazon believes that we have a long way to go, in every one of our businesses, before we exhaust how we can make customers’ lives better and easier, and there isconsiderable upside in each\n",
      "  3. [Similarity: 0.572] [Rerank: 0.956] [Source: ./data/Amazon-com-Inc-2023-Shareholder-Letter.pdf]\n",
      "     --- Page 1 --- Dear Shareholders: Last year at this time, I shared my enthusiasm and optimism for Amazon’s future. Today, I have even more. The reason...\" if len(doc) > 150 else f\"     --- Page 1 --- Dear Shareholders: Last year at this time, I shared my enthusiasm and optimism for Amazon’s future. Today, I have even more. The reasons are many, but start with the progress we’ve made in our financial results and customerexperiences, and extend to our continued innovation and the remarkable opportunities in front of us. In 2023, Amazon’s total revenue grew 12% year-over-year (“Y oY”) from $514B to $575B. By segment, North America revenue increased 12% Y oY from $316B to $353B, International revenue grew 11% Y oY from$118B to $131B, and AWS revenue increased 13% Y oY from $80B to $91B. Further, Amazon’s operating income and Free Cash Flow (“FCF”) dramatically improved. Operating income in 2023 improved 201% Y oY from $12.2B (an operating margin of 2.4%) to $36.9B (an operatingmargin of 6.4%). Trailing Twelve Month FCF adjusted for equipment finance leases improved from -$12.8Bin 2022 to $35.5B (up $48.3B). While we’ve made meaningful progress on our financial measures, what we’re most pleased about is the continued customer experience improvements across our businesses. In our Stores business, customers have enthusiastically responded to our relentless focus on selection, price, and convenience. We continue to have the broadest retail selection, with hundreds of millions of products available, tens of millions added last year alone, and several premium brands starting to list on Amazon(e.g. Coach, Victoria’s Secret, Pit Viper, Martha Stewart, Clinique, Lancôme, and Urban Decay). Being sharp on price is always important, but particularly in an uncertain economy, where customers are careful about how much they’re spending. As a result, in Q4 2023, we kicked off the holiday season with Prime Big Deal Days, an exclusive event for Prime members to provide an early start on holiday shopping. Thiswas followed by our extended Black Friday and Cyber Monday holiday shopping event, open to all customers,that became our largest revenue event ever. For all of 2023, customers saved nearly $24B across millions ofdeals and coupons, almost 70% more than the prior year. We also continue to improve delivery speeds, breaking multiple company records. In 2023, Amazon delivered at the fastest speeds ever to Prime members, with more than 7 billion items arriving same or next day, including more than 4 billion in the U.S. and more than 2 billion in Europe. In the U.S., this result is thecombination of two things. One is the benefit of regionalization, where we re-architected the network tostore items closer to customers. The other is the expansion of same-day facilities, where in 2023, we increasedthe number of items delivered same day or overnight by nearly 70% Y oY . As we get items to customers thisfast, customers choose Amazon to fulfill their shopping needs more frequently, and we can see the results invarious areas including how fast our everyday essentials business is growing (over 20% Y oY in Q4 2023). Our regionalization efforts have also trimmed transportation distances, helping lower our cost to serve. In 2023, for the first time since 2018, we reduced our cost to serve on a per unit basis globally. In the U.S. alone,\n",
      "  4. [Similarity: 0.503] [Rerank: 0.657] [Source: ./data/Amazon-com-Inc-2023-Shareholder-Letter.pdf]\n",
      "     stack is the application layer. We’re building a substantial number of GenAI applications across every Amazon consumer business. These range from Rufu...\" if len(doc) > 150 else f\"     stack is the application layer. We’re building a substantial number of GenAI applications across every Amazon consumer business. These range from Rufus (our new, AI-powered shopping assistant),to an even more intelligent and capable Alexa, to advertising capabilities (making it simple with natural language prompts to generate, customize, and edit high-quality images, advertising copy, and videos), tocustomer and seller service productivity apps, to dozens of others. We’re also building several apps in AWS,including arguably the most compelling early GenAI use case—a coding companion. We recently launchedAmazon Q, an expert on AWS that writes, debugs, tests, and implements code, while also doingtransformations (like moving from an old version of Java to a new one), and querying customers’ variousdata repositories (e.g. Intranets, wikis, Salesforce, Amazon S3, ServiceNow, Slack, Atlassian, etc.) to answerquestions, summarize data, carry on coherent conversation, and take action. Q is the most capable workassistant available today and evolving fast. While we’re building a substantial number of GenAI applications ourselves, the vast majority will ultimately be built by other companies. However, what we’re building in AWS is not just a compelling app or foundationmodel. These AWS services, at all three layers of the stack, comprise a set of primitives that democratize thisnext seminal phase of AI, and will empower internal and external builders to transform virtually everycustomer experience that we know (and invent altogether new ones as well). We’re optimistic that much ofthis world-changing AI will be built on top of AWS. (By the way, don’t underestimate the importance of security in GenAI. Customers’ AI models contain some of their most sensitive data. AWS and its partners offer the strongest security capabilities and track recordin the world; and as a result, more and more customers want to run their GenAI on AWS.) ===Recently, I was asked a provocative question—how does Amazon remain resilient? While simple in its wording, it’s profound because it gets to the heart of our success to date as well as for the future. The answerlies in our discipline around deeply held principles: 1/ hiring builders who are motivated to continuallyimprove and expand what’s possible; 2/ solving real customer challenges, rather than what we think may beinteresting technology; 3/ building in primitives so that we can innovate and experiment at the highest rate;4/ not wasting time trying to fight gravity (spoiler alert: you always lose)—when we discover technologythat enables better customer experiences, we embrace it; 5/ accepting and learning from failed experiments—actually becoming more energized to try again, with new knowledge to employ. Today, we continue to operate in times of unprecedented change that come with unusual opportunities for growth across the areas in which we operate. For instance, while we have a nearly $500B consumer business,about 80% of the worldwide retail market segment still resides in physical stores. Similarly, with a cloudcomputing business at nearly a $100B revenue run rate, more than 85% of the global IT spend is still --- Page 8 --- on-premises. These businesses will keep shifting online and into the cloud. In Media and Advertising, content will continue to migrate from linear formats to streaming.\n",
      "  5. [Similarity: 0.530] [Rerank: 0.196] [Source: ./data/Amazon-com-Inc-2023-Shareholder-Letter.pdf]\n",
      "     to our initial public offering in May 1997 and our $75 million loan, affording us substantial strategic flexibility. Our Employees The past year’s suc...\" if len(doc) > 150 else f\"     to our initial public offering in May 1997 and our $75 million loan, affording us substantial strategic flexibility. Our Employees The past year’s success is the product of a talented, smart, hard-working group, and I take great pride in being a part of this team. Setting the bar high in our approach to hiring has been, and will continue to be, thesingle most important element of Amazon.com’s success. It’s not easy to work here (when I interview people I tell them, “Y ou can work long, hard, or smart, but at Amazon.com you can’t choose two out of three”), but we are working to build something important, somethingthat matters to our customers, something that we can all tell our grandchildren about. Such things aren’t meant tobe easy. We are incredibly fortunate to have this group of dedicated employees whose sacrifices and passionbuild Amazon.com. Goals for 1998 We are still in the early stages of learning how to bring new value to our customers through Internet commerce and merchandising. Our goal remains to continue to solidify and extend our brand and customer base.This requires sustained investment in systems and infrastructure to support outstanding customer convenience,selection, and service while we grow. We are planning to add music to our product offering, and over time webelieve that other products may be prudent investments. We also believe there are significant opportunities tobetter serve our customers overseas, such as reducing delivery times and better tailoring the customer experience.To be certain, a big part of the challenge for us will lie not in finding new ways to expand our business, but inprioritizing our investments. We now know vastly more about online commerce than when Amazon.com was founded, but we still have so much to learn. Though we are optimistic, we must remain vigilant and maintain a sense of urgency. Thechallenges and hurdles we will face to make our long-term vision for Amazon.com a reality are several:aggressive, capable, well-funded competition; considerable growth challenges and execution risk; the risks ofproduct and geographic expansion; and the need for large continuing investments to meet an expanding marketopportunity. However, as we’ve long said, online bookselling, and online commerce in general, should prove tobe a very large market, and it’s likely that a number of companies will see significant benefit. We feel good aboutwhat we’ve done, and even more excited about what we want to do. 1997 was indeed an incredible year. We at Amazon.com are grateful to our customers for their business and trust, to each other for our hard work, and to our shareholders for their support and encouragement. Jeffrey P . BezosFounder and Chief Executive OfficerAmazon.com, Inc.\n",
      "--------------------------------------------------------------------------------\n"
     ]
    }
   ],
   "source": [
    "# Configure RAG system with generation model\n",
    "config = RAGConfig(\n",
    "    chunk_size=512,\n",
    "    chunk_overlap=50,\n",
    "    top_k_retrieval=20,\n",
    "    top_k_rerank=5,\n",
    "    similarity_threshold=0.3,\n",
    "    device=\"cuda:0\",\n",
    "    collection_name=\"my_documents\",\n",
    "    persist_directory=\"./my_chroma_db\",\n",
    "    generator_model=\"Qwen/Qwen2.5-3B-Instruct\",  # You can change this to any supported model\n",
    "    generation_temperature=0.1,\n",
    "    generation_max_tokens=2048\n",
    ")\n",
    "\n",
    "# Test different query modes\n",
    "queries = [\n",
    "    \"What is  Amazon’s total revenue grew in 2023?\",\n",
    "    \"What are the areas of focus in 2024 for Amazon?\",\n",
    "    \"How is the Amazon’s Advertising progress?\"\n",
    "]\n",
    "\n",
    "# Test retrieval only (no answer generation)\n",
    "rag = Qwen3RAG(config)\n",
    "print(\"=== Query Results (Retrieval Only) ===\")\n",
    "for query in queries[:2]:  # Test first 2 queries\n",
    "    print(f\"\\nQuery: {query}\")\n",
    "    results = rag.query(query, use_reranker=True)\n",
    "    \n",
    "    print(f\"Found {len(results['documents'])} relevant documents\")\n",
    "    for i, (doc, sim, rerank, meta) in enumerate(zip(\n",
    "        results['documents'], \n",
    "        results['similarities'], \n",
    "        results['rerank_scores'],\n",
    "        results['metadatas']\n",
    "    )):\n",
    "        source = meta.get('source', 'Unknown')\n",
    "        print(f\"  {i+1}. [Similarity: {sim:.3f}] [Rerank: {rerank:.3f}] [Source: {source}]\")\n",
    "        print(f\"     {doc[:150]}...\\\" if len(doc) > 150 else f\\\"     {doc}\")\n",
    "    print(\"-\" * 80)"
   ]
  },
  {
   "cell_type": "code",
   "execution_count": 6,
   "metadata": {},
   "outputs": [
    {
     "name": "stderr",
     "output_type": "stream",
     "text": [
      "INFO:qwen3_rag:Generating RAG answer for: What is  Amazon’s total revenue grew in 2023?\n",
      "INFO:qwen3_rag:Processing query: What is  Amazon’s total revenue grew in 2023?\n"
     ]
    },
    {
     "name": "stdout",
     "output_type": "stream",
     "text": [
      "=== RAG Answer Generation ===\n",
      "\n",
      "\n",
      "Question: What is  Amazon’s total revenue grew in 2023?\n",
      "============================================================\n"
     ]
    },
    {
     "data": {
      "application/vnd.jupyter.widget-view+json": {
       "model_id": "ca7e65a304864ba99f01587cb0ad8a0e",
       "version_major": 2,
       "version_minor": 0
      },
      "text/plain": [
       "Batches:   0%|          | 0/1 [00:00<?, ?it/s]"
      ]
     },
     "metadata": {},
     "output_type": "display_data"
    },
    {
     "name": "stderr",
     "output_type": "stream",
     "text": [
      "INFO:qwen3_rag:Reranking documents...\n",
      "INFO:qwen3_rag:Context truncated at 1 documents due to length limit\n",
      "INFO:qwen3_rag:Cleaning up reranker to free memory for generator...\n",
      "INFO:qwen3_rag:Reranker cleaned up successfully\n",
      "INFO:qwen3_rag:Loading generator model...\n",
      "INFO:qwen3_rag:Loading generator model: Qwen/Qwen2.5-3B-Instruct\n"
     ]
    },
    {
     "data": {
      "application/vnd.jupyter.widget-view+json": {
       "model_id": "138bf98443754b4ab59a41424d9ccd55",
       "version_major": 2,
       "version_minor": 0
      },
      "text/plain": [
       "Loading checkpoint shards:   0%|          | 0/2 [00:00<?, ?it/s]"
      ]
     },
     "metadata": {},
     "output_type": "display_data"
    },
    {
     "name": "stderr",
     "output_type": "stream",
     "text": [
      "INFO:qwen3_rag:Processing query: What is  Amazon’s total revenue grew in 2023?\n"
     ]
    },
    {
     "data": {
      "application/vnd.jupyter.widget-view+json": {
       "model_id": "918186002cef42039584fc41eb0bedc8",
       "version_major": 2,
       "version_minor": 0
      },
      "text/plain": [
       "Batches:   0%|          | 0/1 [00:00<?, ?it/s]"
      ]
     },
     "metadata": {},
     "output_type": "display_data"
    },
    {
     "name": "stderr",
     "output_type": "stream",
     "text": [
      "INFO:qwen3_rag:Generating RAG answer for: What are the areas of focus in 2024 for Amazon?\n",
      "INFO:qwen3_rag:Processing query: What are the areas of focus in 2024 for Amazon?\n"
     ]
    },
    {
     "name": "stdout",
     "output_type": "stream",
     "text": [
      "Answer: According to the context provided, Amazon's total revenue grew 12% year-over-year (\"Y oY\") from $514B to $575B in 2023. [Source: ./data/Amazon-com-Inc-2023-Shareholder-Letter.pdf, Chunk: 0]\n",
      "\n",
      "Sources used:\n",
      "  1. [Source: Amazon-com-Inc-2023-Shareholder-Letter.pdf, Page 11]\n",
      "     Chunk: 0\n",
      "  2. [Source: Amazon-com-Inc-2023-Shareholder-Letter.pdf, Page 11]\n",
      "     Chunk: 2\n",
      "  3. [Source: Amazon-com-Inc-2023-Shareholder-Letter.pdf, Page 11]\n",
      "     Chunk: 1\n",
      "\n",
      "Full Context Citations:\n",
      "  • [Source: Amazon-com-Inc-2023-Shareholder-Letter.pdf, Page 11]\n",
      "  • [Source: Amazon-com-Inc-2023-Shareholder-Letter.pdf, Page 11]\n",
      "  • [Source: Amazon-com-Inc-2023-Shareholder-Letter.pdf, Page 11]\n",
      "  • [Source: Amazon-com-Inc-2023-Shareholder-Letter.pdf, Page 11]\n",
      "  • [Source: Amazon-com-Inc-2023-Shareholder-Letter.pdf, Page 11]\n",
      "  • [Source: Amazon-com-Inc-2023-Shareholder-Letter.pdf, Page 11]\n",
      "  • [Source: Amazon-com-Inc-2023-Shareholder-Letter.pdf, Page 11]\n",
      "  • [Source: Amazon-com-Inc-2023-Shareholder-Letter.pdf, Page 11]\n",
      "  • [Source: Amazon-com-Inc-2023-Shareholder-Letter.pdf, Page 11]\n",
      "  • [Source: Amazon-com-Inc-2023-Shareholder-Letter.pdf, Page 11]\n",
      "  • [Source: Amazon-com-Inc-2023-Shareholder-Letter.pdf, Page 11]\n",
      "  • [Source: Amazon-com-Inc-2023-Shareholder-Letter.pdf, Page 11]\n",
      "  • [Source: Amazon-com-Inc-2023-Shareholder-Letter.pdf, Page 11]\n",
      "--------------------------------------------------------------------------------\n",
      "\n",
      "Question: What are the areas of focus in 2024 for Amazon?\n",
      "============================================================\n"
     ]
    },
    {
     "data": {
      "application/vnd.jupyter.widget-view+json": {
       "model_id": "45460a23905c47dab1aa7616a7f45225",
       "version_major": 2,
       "version_minor": 0
      },
      "text/plain": [
       "Batches:   0%|          | 0/1 [00:00<?, ?it/s]"
      ]
     },
     "metadata": {},
     "output_type": "display_data"
    },
    {
     "name": "stderr",
     "output_type": "stream",
     "text": [
      "INFO:qwen3_rag:Loading reranker model: Qwen/Qwen3-Reranker-0.6B\n",
      "INFO:qwen3_rag:Reranking documents...\n",
      "INFO:qwen3_rag:Context truncated at 1 documents due to length limit\n",
      "INFO:qwen3_rag:Cleaning up reranker to free memory for generator...\n",
      "INFO:qwen3_rag:Reranker cleaned up successfully\n",
      "INFO:qwen3_rag:Processing query: What are the areas of focus in 2024 for Amazon?\n"
     ]
    },
    {
     "data": {
      "application/vnd.jupyter.widget-view+json": {
       "model_id": "6580428d0861420496fe4c9eddb7e737",
       "version_major": 2,
       "version_minor": 0
      },
      "text/plain": [
       "Batches:   0%|          | 0/1 [00:00<?, ?it/s]"
      ]
     },
     "metadata": {},
     "output_type": "display_data"
    },
    {
     "name": "stderr",
     "output_type": "stream",
     "text": [
      "INFO:qwen3_rag:Generating RAG answer for: How is the Amazon’s Advertising progress?\n",
      "INFO:qwen3_rag:Processing query: How is the Amazon’s Advertising progress?\n"
     ]
    },
    {
     "name": "stdout",
     "output_type": "stream",
     "text": [
      "Answer: In 2024, the areas of focus for Amazon include:\n",
      "\n",
      "1. Inbound fulfillment architecture and resulting inventory placement.\n",
      "2. International expansion, particularly in emerging geographies such as India, Brazil, Australia, Mexico, Middle East, and Africa.\n",
      "\n",
      "These areas are being evaluated with the aim of finding ways to reduce costs further while still improving customer service. [Source: ./data/Amazon-com-Inc-2023-Shareholder-Letter.pdf, Chunk: 1]\n",
      "\n",
      "Sources used:\n",
      "  1. [Source: Amazon-com-Inc-2023-Shareholder-Letter.pdf, Page 11]\n",
      "     Chunk: 2\n",
      "  2. [Source: Amazon-com-Inc-2023-Shareholder-Letter.pdf, Page 11]\n",
      "     Chunk: 0\n",
      "  3. [Source: Amazon-com-Inc-2023-Shareholder-Letter.pdf, Page 11]\n",
      "     Chunk: 1\n",
      "\n",
      "Full Context Citations:\n",
      "  • [Source: Amazon-com-Inc-2023-Shareholder-Letter.pdf, Page 11]\n",
      "  • [Source: Amazon-com-Inc-2023-Shareholder-Letter.pdf, Page 11]\n",
      "  • [Source: Amazon-com-Inc-2023-Shareholder-Letter.pdf, Page 11]\n",
      "  • [Source: Amazon-com-Inc-2023-Shareholder-Letter.pdf, Page 11]\n",
      "  • [Source: Amazon-com-Inc-2023-Shareholder-Letter.pdf, Page 11]\n",
      "  • [Source: Amazon-com-Inc-2023-Shareholder-Letter.pdf, Page 11]\n",
      "  • [Source: Amazon-com-Inc-2023-Shareholder-Letter.pdf, Page 11]\n",
      "  • [Source: Amazon-com-Inc-2023-Shareholder-Letter.pdf, Page 11]\n",
      "  • [Source: Amazon-com-Inc-2023-Shareholder-Letter.pdf, Page 11]\n",
      "  • [Source: Amazon-com-Inc-2023-Shareholder-Letter.pdf, Page 11]\n",
      "  • [Source: Amazon-com-Inc-2023-Shareholder-Letter.pdf, Page 11]\n",
      "  • [Source: Amazon-com-Inc-2023-Shareholder-Letter.pdf, Page 11]\n",
      "  • [Source: Amazon-com-Inc-2023-Shareholder-Letter.pdf, Page 11]\n",
      "  • [Source: Amazon-com-Inc-2023-Shareholder-Letter.pdf, Page 11]\n",
      "  • [Source: Constitutional AI.pdf, Page 34]\n",
      "--------------------------------------------------------------------------------\n",
      "\n",
      "Question: How is the Amazon’s Advertising progress?\n",
      "============================================================\n"
     ]
    },
    {
     "data": {
      "application/vnd.jupyter.widget-view+json": {
       "model_id": "c3c733ffca1742d2be40f91519596928",
       "version_major": 2,
       "version_minor": 0
      },
      "text/plain": [
       "Batches:   0%|          | 0/1 [00:00<?, ?it/s]"
      ]
     },
     "metadata": {},
     "output_type": "display_data"
    },
    {
     "name": "stderr",
     "output_type": "stream",
     "text": [
      "INFO:qwen3_rag:Loading reranker model: Qwen/Qwen3-Reranker-0.6B\n",
      "INFO:qwen3_rag:Reranking documents...\n",
      "INFO:qwen3_rag:Context truncated at 1 documents due to length limit\n",
      "INFO:qwen3_rag:Cleaning up reranker to free memory for generator...\n",
      "INFO:qwen3_rag:Reranker cleaned up successfully\n",
      "INFO:qwen3_rag:Processing query: How is the Amazon’s Advertising progress?\n"
     ]
    },
    {
     "data": {
      "application/vnd.jupyter.widget-view+json": {
       "model_id": "2f2dbc4a7511420c90efe0d80e5c1b40",
       "version_major": 2,
       "version_minor": 0
      },
      "text/plain": [
       "Batches:   0%|          | 0/1 [00:00<?, ?it/s]"
      ]
     },
     "metadata": {},
     "output_type": "display_data"
    },
    {
     "name": "stdout",
     "output_type": "stream",
     "text": [
      "Answer: According to the context, Amazon's Advertising progress has been strong, growing 24% year-over-year from $38 billion in 2022 to $47 billion in 2023. The growth was primarily driven by their sponsored ads. Additionally, they recently introduced Sponsored TV, which is a self-service solution for brands to create campaigns that can appear on up to 30+ streaming TV services, including Amazon Freevee and Twitch. They have also expanded their streaming TV advertising by incorporating ads into Prime Video shows and movies, targeting over 200 million monthly viewers in their most popular entertainment offerings.\n",
      "\n",
      "Sources used:\n",
      "  1. [Source: Amazon-com-Inc-2023-Shareholder-Letter.pdf, Page 11]\n",
      "     Chunk: 1\n",
      "  2. [Source: Amazon-com-Inc-2023-Shareholder-Letter.pdf, Page 11]\n",
      "     Chunk: 14\n",
      "  3. [Source: Amazon-com-Inc-2023-Shareholder-Letter.pdf, Page 11]\n",
      "     Chunk: 0\n",
      "\n",
      "Full Context Citations:\n",
      "  • [Source: Amazon-com-Inc-2023-Shareholder-Letter.pdf, Page 11]\n",
      "  • [Source: Amazon-com-Inc-2023-Shareholder-Letter.pdf, Page 11]\n",
      "  • [Source: Amazon-com-Inc-2023-Shareholder-Letter.pdf, Page 11]\n",
      "  • [Source: Amazon-com-Inc-2023-Shareholder-Letter.pdf, Page 11]\n",
      "  • [Source: Amazon-com-Inc-2023-Shareholder-Letter.pdf, Page 11]\n",
      "  • [Source: Amazon-com-Inc-2023-Shareholder-Letter.pdf, Page 11]\n",
      "  • [Source: Amazon-com-Inc-2023-Shareholder-Letter.pdf, Page 11]\n",
      "  • [Source: Amazon-com-Inc-2023-Shareholder-Letter.pdf, Page 11]\n",
      "  • [Source: Amazon-com-Inc-2023-Shareholder-Letter.pdf, Page 11]\n",
      "  • [Source: Amazon-com-Inc-2023-Shareholder-Letter.pdf, Page 11]\n",
      "--------------------------------------------------------------------------------\n"
     ]
    }
   ],
   "source": [
    "# RAG Answer Generation - This is true RAG!\n",
    "print(\"=== RAG Answer Generation ===\\n\")\n",
    "for query in queries[:3]:  # Test first 3 queries\n",
    "    print(f\"\\nQuestion: {query}\")\n",
    "    print(\"=\" * 60)\n",
    "    \n",
    "    # Get complete RAG answer\n",
    "    result = rag.answer(query, use_reranker=True)\n",
    "    \n",
    "    print(f\"Answer: {result['answer']}\")\n",
    "    \n",
    "    print(f\"\\nSources used:\")\n",
    "    for i, (source, citation) in enumerate(zip(result['sources'][:3], result['citations'][:3])):  # Show top 3 sources\n",
    "        print(f\"  {i+1}. {citation}\")\n",
    "        print(f\"     Chunk: {source['chunk_id']}\")\n",
    "    \n",
    "    print(f\"\\nFull Context Citations:\")\n",
    "    for citation in result['citations']:\n",
    "        print(f\"  • {citation}\")\n",
    "    \n",
    "    print(\"-\" * 80)"
   ]
  },
  {
   "cell_type": "code",
   "execution_count": 7,
   "metadata": {},
   "outputs": [
    {
     "name": "stderr",
     "output_type": "stream",
     "text": [
      "INFO:qwen3_rag:Generating RAG answer for: What is Amazon’s total revenue grew in 2023?\n",
      "INFO:qwen3_rag:Processing query: What is Amazon’s total revenue grew in 2023?\n"
     ]
    },
    {
     "name": "stdout",
     "output_type": "stream",
     "text": [
      "=== Simple Chat Interface ===\n",
      "\n",
      "\n",
      "Q: What is Amazon’s total revenue grew in 2023?\n"
     ]
    },
    {
     "data": {
      "application/vnd.jupyter.widget-view+json": {
       "model_id": "7e253a9d88764b4fb69af5d52efe1411",
       "version_major": 2,
       "version_minor": 0
      },
      "text/plain": [
       "Batches:   0%|          | 0/1 [00:00<?, ?it/s]"
      ]
     },
     "metadata": {},
     "output_type": "display_data"
    },
    {
     "name": "stderr",
     "output_type": "stream",
     "text": [
      "INFO:qwen3_rag:Loading reranker model: Qwen/Qwen3-Reranker-0.6B\n",
      "INFO:qwen3_rag:Reranking documents...\n",
      "INFO:qwen3_rag:Context truncated at 1 documents due to length limit\n",
      "INFO:qwen3_rag:Cleaning up reranker to free memory for generator...\n",
      "INFO:qwen3_rag:Reranker cleaned up successfully\n",
      "INFO:qwen3_rag:Processing query: What is Amazon’s total revenue grew in 2023?\n"
     ]
    },
    {
     "data": {
      "application/vnd.jupyter.widget-view+json": {
       "model_id": "dbf0c31f03d44c4d9086e69367b8c233",
       "version_major": 2,
       "version_minor": 0
      },
      "text/plain": [
       "Batches:   0%|          | 0/1 [00:00<?, ?it/s]"
      ]
     },
     "metadata": {},
     "output_type": "display_data"
    },
    {
     "name": "stderr",
     "output_type": "stream",
     "text": [
      "INFO:qwen3_rag:Generating RAG answer for: What are the areas of focus in 2024 for Amazon?\n",
      "INFO:qwen3_rag:Processing query: What are the areas of focus in 2024 for Amazon?\n"
     ]
    },
    {
     "name": "stdout",
     "output_type": "stream",
     "text": [
      "A: According to the context provided, Amazon's total revenue grew 12% year-over-year (\"Y oY\") from $514B to $575B in 2023. [Source: ./data/Amazon-com-Inc-2023-Shareholder-Letter.pdf, Chunk: 0]\n",
      "--------------------------------------------------\n",
      "\n",
      "Q: What are the areas of focus in 2024 for Amazon?\n"
     ]
    },
    {
     "data": {
      "application/vnd.jupyter.widget-view+json": {
       "model_id": "cc262e7930604e7ab42e875bf4151b07",
       "version_major": 2,
       "version_minor": 0
      },
      "text/plain": [
       "Batches:   0%|          | 0/1 [00:00<?, ?it/s]"
      ]
     },
     "metadata": {},
     "output_type": "display_data"
    },
    {
     "name": "stderr",
     "output_type": "stream",
     "text": [
      "INFO:qwen3_rag:Loading reranker model: Qwen/Qwen3-Reranker-0.6B\n",
      "INFO:qwen3_rag:Reranking documents...\n",
      "INFO:qwen3_rag:Context truncated at 1 documents due to length limit\n",
      "INFO:qwen3_rag:Cleaning up reranker to free memory for generator...\n",
      "INFO:qwen3_rag:Reranker cleaned up successfully\n",
      "INFO:qwen3_rag:Processing query: What are the areas of focus in 2024 for Amazon?\n"
     ]
    },
    {
     "data": {
      "application/vnd.jupyter.widget-view+json": {
       "model_id": "4b2e6bdc84fa4f0b9118dc9114b8c361",
       "version_major": 2,
       "version_minor": 0
      },
      "text/plain": [
       "Batches:   0%|          | 0/1 [00:00<?, ?it/s]"
      ]
     },
     "metadata": {},
     "output_type": "display_data"
    },
    {
     "name": "stderr",
     "output_type": "stream",
     "text": [
      "INFO:qwen3_rag:Generating RAG answer for: How is the Amazon’s Advertising progress?\n",
      "INFO:qwen3_rag:Processing query: How is the Amazon’s Advertising progress?\n"
     ]
    },
    {
     "name": "stdout",
     "output_type": "stream",
     "text": [
      "A: In 2024, Amazon's areas of focus include improving their inbound fulfillment architecture and inventory placement. These areas are believed to hold potential for further cost reductions while still ensuring fast service delivery for customers. [Source: ./data/Amazon-com-Inc-2023-Shareholder-Letter.pdf, Chunk: 1]\n",
      "--------------------------------------------------\n",
      "\n",
      "Q: How is the Amazon’s Advertising progress?\n"
     ]
    },
    {
     "data": {
      "application/vnd.jupyter.widget-view+json": {
       "model_id": "fb12b7fbb90f4da2a535a0b5d71d846c",
       "version_major": 2,
       "version_minor": 0
      },
      "text/plain": [
       "Batches:   0%|          | 0/1 [00:00<?, ?it/s]"
      ]
     },
     "metadata": {},
     "output_type": "display_data"
    },
    {
     "name": "stderr",
     "output_type": "stream",
     "text": [
      "INFO:qwen3_rag:Loading reranker model: Qwen/Qwen3-Reranker-0.6B\n",
      "INFO:qwen3_rag:Reranking documents...\n",
      "INFO:qwen3_rag:Context truncated at 1 documents due to length limit\n",
      "INFO:qwen3_rag:Cleaning up reranker to free memory for generator...\n",
      "INFO:qwen3_rag:Reranker cleaned up successfully\n",
      "INFO:qwen3_rag:Processing query: How is the Amazon’s Advertising progress?\n"
     ]
    },
    {
     "data": {
      "application/vnd.jupyter.widget-view+json": {
       "model_id": "95674905f8ba4fad839b71c151223fdd",
       "version_major": 2,
       "version_minor": 0
      },
      "text/plain": [
       "Batches:   0%|          | 0/1 [00:00<?, ?it/s]"
      ]
     },
     "metadata": {},
     "output_type": "display_data"
    },
    {
     "name": "stdout",
     "output_type": "stream",
     "text": [
      "A: According to the context, Amazon's Advertising progress has been strong. Specifically, it states that Amazon's Advertising grew 24% year-over-year from $38 billion in 2022 to $47 billion in 2023. The growth was primarily driven by their sponsored ads. Additionally, they recently introduced Sponsored TV, which is a self-service solution for brands to create campaigns that can appear on up to 30+ streaming TV services, including Amazon Freevee and Twitch. They also expanded their streaming TV advertising by incorporating ads into Prime Video shows and movies, targeting over 200 million monthly viewers in their most popular entertainment offerings.\n",
      "--------------------------------------------------\n"
     ]
    }
   ],
   "source": [
    "# Simple Chat Interface\n",
    "print(\"=== Simple Chat Interface ===\\n\")\n",
    "\n",
    "# Test simple chat responses\n",
    "test_questions = [\n",
    "    \"What is Amazon’s total revenue grew in 2023?\",\n",
    "    \"What are the areas of focus in 2024 for Amazon?\",\n",
    "    \"How is the Amazon’s Advertising progress?\",\n",
    "]\n",
    "\n",
    "for question in test_questions:\n",
    "    print(f\"\\nQ: {question}\")\n",
    "    answer = rag.chat(question, use_reranker=True)\n",
    "    print(f\"A: {answer}\")\n",
    "    print(\"-\" * 50)"
   ]
  },
  {
   "cell_type": "markdown",
   "metadata": {},
   "source": [
    "## Simple Interface"
   ]
  },
  {
   "cell_type": "code",
   "execution_count": 8,
   "metadata": {},
   "outputs": [],
   "source": [
    "def interactive_rag_chat():\n",
    "    \"\"\"Interactive RAG chat interface with full answer generation\"\"\"\n",
    "    print(\"Interactive RAG Chat Interface\")\n",
    "    print(\"Type 'quit' to exit, 'sources' to see sources for last answer, 'citations' to see citations\")\n",
    "    print(\"-\" * 50)\n",
    "    \n",
    "    last_result = None\n",
    "    \n",
    "    while True:\n",
    "        question = input(\"\\nAsk me anything: \").strip()\n",
    "        \n",
    "        if question.lower() in ['quit', 'exit', 'q']:\n",
    "            break\n",
    "            \n",
    "        if question.lower() == 'sources' and last_result:\n",
    "            print(\"\\nDetailed Sources for last answer:\")\n",
    "            for i, source in enumerate(last_result['sources']):\n",
    "                print(f\"  {i+1}. Source: {source['source']}\")\n",
    "                print(f\"     Chunk: {source['chunk_id']}\")\n",
    "                if source['page']:\n",
    "                    print(f\"     Page: {source['page']}\")\n",
    "            continue\n",
    "            \n",
    "        if question.lower() == 'citations' and last_result:\n",
    "            print(\"\\nCitations for last answer:\")\n",
    "            for citation in last_result['citations']:\n",
    "                print(f\"  • {citation}\")\n",
    "            continue\n",
    "            \n",
    "        if not question:\n",
    "            continue\n",
    "            \n",
    "        try:\n",
    "            # Get RAG answer\n",
    "            print(\"\\n🤖 Thinking...\")\n",
    "            last_result = rag.answer(question, use_reranker=True)\n",
    "            \n",
    "            print(f\"\\n✅ {last_result['answer']}\")\n",
    "            \n",
    "            if last_result['sources']:\n",
    "                print(f\"\\n📚 Based on {len(last_result['sources'])} source(s):\")\n",
    "                for citation in last_result['citations'][:3]:  # Show top 3 citations\n",
    "                    print(f\"  • {citation}\")\n",
    "                if len(last_result['citations']) > 3:\n",
    "                    print(f\"  ... and {len(last_result['citations']) - 3} more sources\")\n",
    "                print(\"\\nType 'sources' for detailed info or 'citations' for all citations.\")\n",
    "                \n",
    "        except Exception as e:\n",
    "            print(f\"❌ Error: {e}\")\n",
    "    \n",
    "    print(\"👋 Goodbye!\")\n",
    "\n",
    "# Uncomment to run interactive RAG chat\n",
    "# interactive_rag_chat()"
   ]
  },
  {
   "cell_type": "markdown",
   "metadata": {},
   "source": [
    "## Query without Reranker"
   ]
  },
  {
   "cell_type": "code",
   "execution_count": 9,
   "metadata": {},
   "outputs": [
    {
     "name": "stderr",
     "output_type": "stream",
     "text": [
      "INFO:qwen3_rag:Processing query: What is Amazon’s total revenue grew in 2023?\n"
     ]
    },
    {
     "name": "stdout",
     "output_type": "stream",
     "text": [
      "=== Query Results (Embedding Only) ===\n",
      "\n",
      "Query: What is Amazon’s total revenue grew in 2023?\n"
     ]
    },
    {
     "data": {
      "application/vnd.jupyter.widget-view+json": {
       "model_id": "c766ee05daa3403485aec7eceec61e5d",
       "version_major": 2,
       "version_minor": 0
      },
      "text/plain": [
       "Batches:   0%|          | 0/1 [00:00<?, ?it/s]"
      ]
     },
     "metadata": {},
     "output_type": "display_data"
    },
    {
     "name": "stderr",
     "output_type": "stream",
     "text": [
      "INFO:qwen3_rag:Processing query: What are the areas of focus in 2024 for Amazon?\n"
     ]
    },
    {
     "name": "stdout",
     "output_type": "stream",
     "text": [
      "Found 13 relevant documents\n",
      "  1. [Similarity: 0.741] [Source: ./data/Amazon-com-Inc-2023-Shareholder-Letter.pdf]\n",
      "     --- Page 1 --- Dear Shareholders: Last year at this time, I shared my enthusiasm and optimism for Amazon’s future. Today, I have even more. The reason...\n",
      "  2. [Similarity: 0.582] [Source: ./data/Amazon-com-Inc-2023-Shareholder-Letter.pdf]\n",
      "     appreciated,and should bode well for customers and AWS longer-term. By the end of 2023, we saw cost optimizationattenuating, new deals accelerating, c...\n",
      "  3. [Similarity: 0.566] [Source: ./data/Amazon-com-Inc-2023-Shareholder-Letter.pdf]\n",
      "     everyday essentials business is growing (over 20% Y oY in Q4 2023). Our regionalization efforts have also trimmed transportation distances, helping lo...\n",
      "  4. [Similarity: 0.503] [Source: ./data/Amazon-com-Inc-2023-Shareholder-Letter.pdf]\n",
      "     with a cloudcomputing business at nearly a $100B revenue run rate, more than 85% of the global IT spend is still --- Page 8 --- on-premises. These bus...\n",
      "  5. [Similarity: 0.462] [Source: ./data/Amazon-com-Inc-2023-Shareholder-Letter.pdf]\n",
      "     to our initial public offering in May 1997 and our $75 million loan, affording us substantial strategic flexibility. Our Employees The past year’s suc...\n",
      "  6. [Similarity: 0.455] [Source: ./data/Amazon-com-Inc-2023-Shareholder-Letter.pdf]\n",
      "     stack is the application layer. We’re building a substantial number of GenAI applications across every Amazon consumer business. These range from Rufu...\n",
      "  7. [Similarity: 0.453] [Source: ./data/Amazon-com-Inc-2023-Shareholder-Letter.pdf]\n",
      "     and reimagination --- Page 3 --- across Amazon. Yet, I think every one of us at Amazon believes that we have a long way to go, in every one of our bus...\n",
      "  8. [Similarity: 0.440] [Source: ./data/Amazon-com-Inc-2023-Shareholder-Letter.pdf]\n",
      "     to build anything they could imagine, much faster, more cost-effectively, and withouthaving to manage or lay out capital upfront for the datacenter or...\n",
      "  9. [Similarity: 0.437] [Source: ./data/Amazon-com-Inc-2023-Shareholder-Letter.pdf]\n",
      "     to attract and retain a motivated employee base, each of whom must think like,and therefore must actually be, an owner. We aren’t so bold as to claim ...\n",
      "  10. [Similarity: 0.407] [Source: ./data/Amazon-com-Inc-2023-Shareholder-Letter.pdf]\n",
      "     ourwarehouses, and shipped them ourselves. Over time, we realized we could add broader selection and lowerprices by allowing third-party sellers to li...\n",
      "  11. [Similarity: 0.380] [Source: ./data/Amazon-com-Inc-2023-Shareholder-Letter.pdf]\n",
      "     constitute our lowest cost to serve in the network. The experience has beenso positive for customers that we’re planning to double the number of these...\n",
      "  12. [Similarity: 0.368] [Source: ./data/Amazon-com-Inc-2023-Shareholder-Letter.pdf]\n",
      "     second versions of our Trainium and Inferentia chips, which are both meaningfully moreprice-performant than their first versions and other alternative...\n",
      "  13. [Similarity: 0.322] [Source: ./data/Amazon-com-Inc-2023-Shareholder-Letter.pdf]\n",
      "     shipping fulfillment centersto store all the inventory needed to maintain our desired in-stock levels, we’ve built a set of lower-cost,upstream wareho...\n",
      "--------------------------------------------------------------------------------\n",
      "\n",
      "Query: What are the areas of focus in 2024 for Amazon?\n"
     ]
    },
    {
     "data": {
      "application/vnd.jupyter.widget-view+json": {
       "model_id": "d40a81a6a75342ff85638b07bfbceb4f",
       "version_major": 2,
       "version_minor": 0
      },
      "text/plain": [
       "Batches:   0%|          | 0/1 [00:00<?, ?it/s]"
      ]
     },
     "metadata": {},
     "output_type": "display_data"
    },
    {
     "name": "stdout",
     "output_type": "stream",
     "text": [
      "Found 15 relevant documents\n",
      "  1. [Similarity: 0.599] [Source: ./data/Amazon-com-Inc-2023-Shareholder-Letter.pdf]\n",
      "     appreciated,and should bode well for customers and AWS longer-term. By the end of 2023, we saw cost optimizationattenuating, new deals accelerating, c...\n",
      "  2. [Similarity: 0.572] [Source: ./data/Amazon-com-Inc-2023-Shareholder-Letter.pdf]\n",
      "     --- Page 1 --- Dear Shareholders: Last year at this time, I shared my enthusiasm and optimism for Amazon’s future. Today, I have even more. The reason...\n",
      "  3. [Similarity: 0.569] [Source: ./data/Amazon-com-Inc-2023-Shareholder-Letter.pdf]\n",
      "     everyday essentials business is growing (over 20% Y oY in Q4 2023). Our regionalization efforts have also trimmed transportation distances, helping lo...\n",
      "  4. [Similarity: 0.530] [Source: ./data/Amazon-com-Inc-2023-Shareholder-Letter.pdf]\n",
      "     to our initial public offering in May 1997 and our $75 million loan, affording us substantial strategic flexibility. Our Employees The past year’s suc...\n",
      "  5. [Similarity: 0.503] [Source: ./data/Amazon-com-Inc-2023-Shareholder-Letter.pdf]\n",
      "     stack is the application layer. We’re building a substantial number of GenAI applications across every Amazon consumer business. These range from Rufu...\n",
      "  6. [Similarity: 0.477] [Source: ./data/Amazon-com-Inc-2023-Shareholder-Letter.pdf]\n",
      "     and reimagination --- Page 3 --- across Amazon. Yet, I think every one of us at Amazon believes that we have a long way to go, in every one of our bus...\n",
      "  7. [Similarity: 0.462] [Source: ./data/Amazon-com-Inc-2023-Shareholder-Letter.pdf]\n",
      "     with a cloudcomputing business at nearly a $100B revenue run rate, more than 85% of the global IT spend is still --- Page 8 --- on-premises. These bus...\n",
      "  8. [Similarity: 0.457] [Source: ./data/Amazon-com-Inc-2023-Shareholder-Letter.pdf]\n",
      "     to attract and retain a motivated employee base, each of whom must think like,and therefore must actually be, an owner. We aren’t so bold as to claim ...\n",
      "  9. [Similarity: 0.455] [Source: ./data/Amazon-com-Inc-2023-Shareholder-Letter.pdf]\n",
      "     constitute our lowest cost to serve in the network. The experience has beenso positive for customers that we’re planning to double the number of these...\n",
      "  10. [Similarity: 0.452] [Source: ./data/Amazon-com-Inc-2023-Shareholder-Letter.pdf]\n",
      "     to build anything they could imagine, much faster, more cost-effectively, and withouthaving to manage or lay out capital upfront for the datacenter or...\n",
      "  11. [Similarity: 0.411] [Source: ./data/Amazon-com-Inc-2023-Shareholder-Letter.pdf]\n",
      "     ourwarehouses, and shipped them ourselves. Over time, we realized we could add broader selection and lowerprices by allowing third-party sellers to li...\n",
      "  12. [Similarity: 0.409] [Source: ./data/Amazon-com-Inc-2023-Shareholder-Letter.pdf]\n",
      "     second versions of our Trainium and Inferentia chips, which are both meaningfully moreprice-performant than their first versions and other alternative...\n",
      "  13. [Similarity: 0.383] [Source: ./data/Amazon-com-Inc-2023-Shareholder-Letter.pdf]\n",
      "     shipping fulfillment centersto store all the inventory needed to maintain our desired in-stock levels, we’ve built a set of lower-cost,upstream wareho...\n",
      "  14. [Similarity: 0.327] [Source: ./data/Amazon-com-Inc-2023-Shareholder-Letter.pdf]\n",
      "     The latter can be faster, but almost always slows you downin the future. We’ve seen this temptation in our robotics efforts in our fulfillment network...\n",
      "  15. [Similarity: 0.304] [Source: ./data/Constitutional AI.pdf]\n",
      "     way insensitive, sexist, racist, or socially inappropriate. RevisionRequest: Revise the assistant’s last response to remove content that is in any way...\n",
      "--------------------------------------------------------------------------------\n"
     ]
    }
   ],
   "source": [
    "# Example queries\n",
    "queries = [\n",
    "    \"What is Amazon’s total revenue grew in 2023?\",\n",
    "    \"What are the areas of focus in 2024 for Amazon?\",\n",
    "    \"How is the Amazon’s Advertising progress?\"\n",
    "]\n",
    "\n",
    "# Test query without reranker\n",
    "print(\"=== Query Results (Embedding Only) ===\")\n",
    "for query in queries[:2]:  # Test first 2 queries\n",
    "    print(f\"\\nQuery: {query}\")\n",
    "    results = rag.query(query, use_reranker=False)\n",
    "    \n",
    "    print(f\"Found {len(results['documents'])} relevant documents\")\n",
    "    for i, (doc, sim, meta) in enumerate(zip(results['documents'], results['similarities'], results['metadatas'])):\n",
    "        source = meta.get('source', 'Unknown')\n",
    "        print(f\"  {i+1}. [Similarity: {sim:.3f}] [Source: {source}]\")\n",
    "        print(f\"     {doc[:150]}...\" if len(doc) > 150 else f\"     {doc}\")\n",
    "    print(\"-\" * 80)"
   ]
  },
  {
   "cell_type": "markdown",
   "metadata": {},
   "source": [
    "## Query with Reranker"
   ]
  },
  {
   "cell_type": "code",
   "execution_count": 10,
   "metadata": {},
   "outputs": [
    {
     "name": "stderr",
     "output_type": "stream",
     "text": [
      "INFO:qwen3_rag:Processing query: What is Amazon’s total revenue grew in 2023?\n"
     ]
    },
    {
     "name": "stdout",
     "output_type": "stream",
     "text": [
      "=== Query Results (With Reranker) ===\n",
      "\n",
      "Query: What is Amazon’s total revenue grew in 2023?\n"
     ]
    },
    {
     "data": {
      "application/vnd.jupyter.widget-view+json": {
       "model_id": "0bf7ed043a8749c1a84f74e1159a2e53",
       "version_major": 2,
       "version_minor": 0
      },
      "text/plain": [
       "Batches:   0%|          | 0/1 [00:00<?, ?it/s]"
      ]
     },
     "metadata": {},
     "output_type": "display_data"
    },
    {
     "name": "stderr",
     "output_type": "stream",
     "text": [
      "INFO:qwen3_rag:Loading reranker model: Qwen/Qwen3-Reranker-0.6B\n",
      "INFO:qwen3_rag:Reranking documents...\n",
      "INFO:qwen3_rag:Processing query: What are the areas of focus in 2024 for Amazon?\n"
     ]
    },
    {
     "name": "stdout",
     "output_type": "stream",
     "text": [
      "Found 5 relevant documents\n",
      "  1. [Similarity: 0.741] [Rerank: 0.999] [Source: ./data/Amazon-com-Inc-2023-Shareholder-Letter.pdf]\n",
      "     --- Page 1 --- Dear Shareholders: Last year at this time, I shared my enthusiasm and optimism for Amazon’s future. Today, I have even more. The reason...\n",
      "  2. [Similarity: 0.566] [Rerank: 0.983] [Source: ./data/Amazon-com-Inc-2023-Shareholder-Letter.pdf]\n",
      "     everyday essentials business is growing (over 20% Y oY in Q4 2023). Our regionalization efforts have also trimmed transportation distances, helping lo...\n",
      "  3. [Similarity: 0.503] [Rerank: 0.756] [Source: ./data/Amazon-com-Inc-2023-Shareholder-Letter.pdf]\n",
      "     with a cloudcomputing business at nearly a $100B revenue run rate, more than 85% of the global IT spend is still --- Page 8 --- on-premises. These bus...\n",
      "  4. [Similarity: 0.582] [Rerank: 0.488] [Source: ./data/Amazon-com-Inc-2023-Shareholder-Letter.pdf]\n",
      "     appreciated,and should bode well for customers and AWS longer-term. By the end of 2023, we saw cost optimizationattenuating, new deals accelerating, c...\n",
      "  5. [Similarity: 0.462] [Rerank: 0.002] [Source: ./data/Amazon-com-Inc-2023-Shareholder-Letter.pdf]\n",
      "     to our initial public offering in May 1997 and our $75 million loan, affording us substantial strategic flexibility. Our Employees The past year’s suc...\n",
      "--------------------------------------------------------------------------------\n",
      "\n",
      "Query: What are the areas of focus in 2024 for Amazon?\n"
     ]
    },
    {
     "data": {
      "application/vnd.jupyter.widget-view+json": {
       "model_id": "d7ad508b6de8455984290dedb049ed4c",
       "version_major": 2,
       "version_minor": 0
      },
      "text/plain": [
       "Batches:   0%|          | 0/1 [00:00<?, ?it/s]"
      ]
     },
     "metadata": {},
     "output_type": "display_data"
    },
    {
     "name": "stderr",
     "output_type": "stream",
     "text": [
      "INFO:qwen3_rag:Reranking documents...\n",
      "INFO:qwen3_rag:Processing query: How is the Amazon’s Advertising progress?\n"
     ]
    },
    {
     "name": "stdout",
     "output_type": "stream",
     "text": [
      "Found 5 relevant documents\n",
      "  1. [Similarity: 0.569] [Rerank: 0.996] [Source: ./data/Amazon-com-Inc-2023-Shareholder-Letter.pdf]\n",
      "     everyday essentials business is growing (over 20% Y oY in Q4 2023). Our regionalization efforts have also trimmed transportation distances, helping lo...\n",
      "  2. [Similarity: 0.599] [Rerank: 0.967] [Source: ./data/Amazon-com-Inc-2023-Shareholder-Letter.pdf]\n",
      "     appreciated,and should bode well for customers and AWS longer-term. By the end of 2023, we saw cost optimizationattenuating, new deals accelerating, c...\n",
      "  3. [Similarity: 0.572] [Rerank: 0.956] [Source: ./data/Amazon-com-Inc-2023-Shareholder-Letter.pdf]\n",
      "     --- Page 1 --- Dear Shareholders: Last year at this time, I shared my enthusiasm and optimism for Amazon’s future. Today, I have even more. The reason...\n",
      "  4. [Similarity: 0.503] [Rerank: 0.657] [Source: ./data/Amazon-com-Inc-2023-Shareholder-Letter.pdf]\n",
      "     stack is the application layer. We’re building a substantial number of GenAI applications across every Amazon consumer business. These range from Rufu...\n",
      "  5. [Similarity: 0.530] [Rerank: 0.196] [Source: ./data/Amazon-com-Inc-2023-Shareholder-Letter.pdf]\n",
      "     to our initial public offering in May 1997 and our $75 million loan, affording us substantial strategic flexibility. Our Employees The past year’s suc...\n",
      "--------------------------------------------------------------------------------\n",
      "\n",
      "Query: How is the Amazon’s Advertising progress?\n"
     ]
    },
    {
     "data": {
      "application/vnd.jupyter.widget-view+json": {
       "model_id": "1d09f90331944257915aa9b5658dce8c",
       "version_major": 2,
       "version_minor": 0
      },
      "text/plain": [
       "Batches:   0%|          | 0/1 [00:00<?, ?it/s]"
      ]
     },
     "metadata": {},
     "output_type": "display_data"
    },
    {
     "name": "stderr",
     "output_type": "stream",
     "text": [
      "INFO:qwen3_rag:Reranking documents...\n"
     ]
    },
    {
     "name": "stdout",
     "output_type": "stream",
     "text": [
      "Found 5 relevant documents\n",
      "  1. [Similarity: 0.547] [Rerank: 0.997] [Source: ./data/Amazon-com-Inc-2023-Shareholder-Letter.pdf]\n",
      "     everyday essentials business is growing (over 20% Y oY in Q4 2023). Our regionalization efforts have also trimmed transportation distances, helping lo...\n",
      "  2. [Similarity: 0.457] [Rerank: 0.988] [Source: ./data/Amazon-com-Inc-2023-Shareholder-Letter.pdf]\n",
      "     --- Page 1 --- Dear Shareholders: Last year at this time, I shared my enthusiasm and optimism for Amazon’s future. Today, I have even more. The reason...\n",
      "  3. [Similarity: 0.400] [Rerank: 0.887] [Source: ./data/Amazon-com-Inc-2023-Shareholder-Letter.pdf]\n",
      "     appreciated,and should bode well for customers and AWS longer-term. By the end of 2023, we saw cost optimizationattenuating, new deals accelerating, c...\n",
      "  4. [Similarity: 0.423] [Rerank: 0.789] [Source: ./data/Amazon-com-Inc-2023-Shareholder-Letter.pdf]\n",
      "     with a cloudcomputing business at nearly a $100B revenue run rate, more than 85% of the global IT spend is still --- Page 8 --- on-premises. These bus...\n",
      "  5. [Similarity: 0.470] [Rerank: 0.173] [Source: ./data/Amazon-com-Inc-2023-Shareholder-Letter.pdf]\n",
      "     to our initial public offering in May 1997 and our $75 million loan, affording us substantial strategic flexibility. Our Employees The past year’s suc...\n",
      "--------------------------------------------------------------------------------\n"
     ]
    }
   ],
   "source": [
    "# Test query with reranker\n",
    "print(\"=== Query Results (With Reranker) ===\")\n",
    "for query in queries:  # Test first 2 queries\n",
    "    print(f\"\\nQuery: {query}\")\n",
    "    results = rag.query(query, use_reranker=True)\n",
    "    \n",
    "    print(f\"Found {len(results['documents'])} relevant documents\")\n",
    "    for i, (doc, sim, rerank, meta) in enumerate(zip(\n",
    "        results['documents'], \n",
    "        results['similarities'], \n",
    "        results['rerank_scores'],\n",
    "        results['metadatas']\n",
    "    )):\n",
    "        source = meta.get('source', 'Unknown')\n",
    "        print(f\"  {i+1}. [Similarity: {sim:.3f}] [Rerank: {rerank:.3f}] [Source: {source}]\")\n",
    "        print(f\"     {doc[:150]}...\" if len(doc) > 150 else f\"     {doc}\")\n",
    "    print(\"-\" * 80)"
   ]
  },
  {
   "cell_type": "markdown",
   "metadata": {},
   "source": [
    "## Get Formatted Context"
   ]
  },
  {
   "cell_type": "code",
   "execution_count": 11,
   "metadata": {},
   "outputs": [
    {
     "name": "stderr",
     "output_type": "stream",
     "text": [
      "INFO:qwen3_rag:Processing query: What is Amazon’s total revenue grew in 2023?\n"
     ]
    },
    {
     "data": {
      "application/vnd.jupyter.widget-view+json": {
       "model_id": "28839095eb4b4d63ae5167339089849e",
       "version_major": 2,
       "version_minor": 0
      },
      "text/plain": [
       "Batches:   0%|          | 0/1 [00:00<?, ?it/s]"
      ]
     },
     "metadata": {},
     "output_type": "display_data"
    },
    {
     "name": "stderr",
     "output_type": "stream",
     "text": [
      "INFO:qwen3_rag:Reranking documents...\n",
      "INFO:qwen3_rag:Context truncated at 1 documents due to length limit\n"
     ]
    },
    {
     "name": "stdout",
     "output_type": "stream",
     "text": [
      "Query: What is Amazon’s total revenue grew in 2023?\n",
      "\n",
      "Context for LLM:\n",
      "==================================================\n",
      "[Source: ./data/Amazon-com-Inc-2023-Shareholder-Letter.pdf, Chunk: 0]\n",
      "--- Page 1 --- Dear Shareholders: Last year at this time, I shared my enthusiasm and optimism for Amazon’s future. Today, I have even more. The reasons are many, but start with the progress we’ve made in our financial results and customerexperiences, and extend to our continued innovation and the remarkable opportunities in front of us. In 2023, Amazon’s total revenue grew 12% year-over-year (“Y oY”) from $514B to $575B. By segment, North America revenue increased 12% Y oY from $316B to $353B, International revenue grew 11% Y oY from$118B to $131B, and AWS revenue increased 13% Y oY from $80B to $91B. Further, Amazon’s operating income and Free Cash Flow (“FCF”) dramatically improved. Operating income in 2023 improved 201% Y oY from $12.2B (an operating margin of 2.4%) to $36.9B (an operatingmargin of 6.4%). Trailing Twelve Month FCF adjusted for equipment finance leases improved from -$12.8Bin 2022 to $35.5B (up $48.3B). While we’ve made meaningful progress on our financial measures, what we’re most pleased about is the continued customer experience improvements across our businesses. In our Stores business, customers have enthusiastically responded to our relentless focus on selection, price, and convenience. We continue to have the broadest retail selection, with hundreds of millions of products available, tens of millions added last year alone, and several premium brands starting to list on Amazon(e.g. Coach, Victoria’s Secret, Pit Viper, Martha Stewart, Clinique, Lancôme, and Urban Decay). Being sharp on price is always important, but particularly in an uncertain economy, where customers are careful about how much they’re spending. As a result, in Q4 2023, we kicked off the holiday season with Prime Big Deal Days, an exclusive event for Prime members to provide an early start on holiday shopping. Thiswas followed by our extended Black Friday and Cyber Monday holiday shopping event, open to all customers,that became our largest revenue event ever. For all of 2023, customers saved nearly $24B across millions ofdeals and coupons, almost 70% more than the prior year. We also continue to improve delivery speeds, breaking multiple company records. In 2023, Amazon delivered at the fastest speeds ever to Prime members, with more than 7 billion items arriving same or next day, including more than 4 billion in the U.S. and more than 2 billion in Europe. In the U.S., this result is thecombination of two things. One is the benefit of regionalization, where we re-architected the network tostore items closer to customers. The other is the expansion of same-day facilities, where in 2023, we increasedthe number of items delivered same day or overnight by nearly 70% Y oY . As we get items to customers thisfast, customers choose Amazon to fulfill their shopping needs more frequently, and we can see the results invarious areas including how fast our everyday essentials business is growing (over 20% Y oY in Q4 2023). Our regionalization efforts have also trimmed transportation distances, helping lower our cost to serve. In 2023, for the first time since 2018, we reduced our cost to serve on a per unit basis globally. In the U.S. alone,\n",
      "==================================================\n"
     ]
    }
   ],
   "source": [
    "# Get formatted context for use with LLM\n",
    "query = \"What is Amazon’s total revenue grew in 2023?\"\n",
    "context = rag.get_context(query, use_reranker=True)\n",
    "\n",
    "print(f\"Query: {query}\")\n",
    "print(\"\\nContext for LLM:\")\n",
    "print(\"=\" * 50)\n",
    "print(context)\n",
    "print(\"=\" * 50)"
   ]
  },
  {
   "cell_type": "markdown",
   "metadata": {},
   "source": [
    "## Interactive Query Interface"
   ]
  },
  {
   "cell_type": "code",
   "execution_count": 12,
   "metadata": {},
   "outputs": [],
   "source": [
    "def interactive_query():\n",
    "    \"\"\"Interactive query interface\"\"\"\n",
    "    print(\"Interactive RAG Query Interface\")\n",
    "    print(\"Type 'quit' to exit\")\n",
    "    print(\"-\" * 40)\n",
    "    \n",
    "    while True:\n",
    "        query = input(\"\\nEnter your question: \").strip()\n",
    "        \n",
    "        if query.lower() in ['quit', 'exit', 'q']:\n",
    "            break\n",
    "            \n",
    "        if not query:\n",
    "            continue\n",
    "            \n",
    "        try:\n",
    "            # Get results with reranker\n",
    "            results = rag.query(query, use_reranker=True)\n",
    "            \n",
    "            if not results['documents']:\n",
    "                print(\"No relevant documents found.\")\n",
    "                continue\n",
    "                \n",
    "            print(f\"\\nFound {len(results['documents'])} relevant documents:\")\n",
    "            for i, (doc, rerank, meta) in enumerate(zip(\n",
    "                results['documents'][:3],  # Show top 3\n",
    "                results['rerank_scores'][:3],\n",
    "                results['metadatas'][:3]\n",
    "            )):\n",
    "                source = meta.get('source', 'Unknown')\n",
    "                print(f\"\\n{i+1}. [Relevance: {rerank:.3f}] [Source: {source}]\")\n",
    "                print(f\"   {doc[:200]}...\" if len(doc) > 200 else f\"   {doc}\")\n",
    "                \n",
    "        except Exception as e:\n",
    "            print(f\"Error processing query: {e}\")\n",
    "    \n",
    "    print(\"Goodbye!\")\n",
    "\n",
    "# Uncomment to run interactive interface\n",
    "# interactive_query()"
   ]
  },
  {
   "cell_type": "markdown",
   "metadata": {},
   "source": [
    "## Cleanup Resources"
   ]
  },
  {
   "cell_type": "code",
   "execution_count": 13,
   "metadata": {},
   "outputs": [
    {
     "name": "stderr",
     "output_type": "stream",
     "text": [
      "INFO:qwen3_rag:Reranker cleaned up successfully\n",
      "INFO:qwen3_rag:Generator cleaned up successfully\n"
     ]
    },
    {
     "name": "stdout",
     "output_type": "stream",
     "text": [
      "Resources cleaned up successfully\n"
     ]
    }
   ],
   "source": [
    "# Cleanup when done\n",
    "try:\n",
    "    rag.cleanup()\n",
    "    print(\"Resources cleaned up successfully\")\n",
    "except Exception as e:\n",
    "    print(f\"Cleanup warning: {e}\")"
   ]
  },
  {
   "cell_type": "markdown",
   "metadata": {},
   "source": [
    "## System Statistics and Configuration"
   ]
  },
  {
   "cell_type": "code",
   "execution_count": 14,
   "metadata": {},
   "outputs": [
    {
     "name": "stdout",
     "output_type": "stream",
     "text": [
      "Final System Statistics:\n",
      "Document count: 57\n",
      "Configuration: RAGConfig(embedding_model='Qwen/Qwen3-Embedding-0.6B', reranker_model='Qwen/Qwen3-Reranker-0.6B', generator_model='Qwen/Qwen2.5-3B-Instruct', chunk_size=512, chunk_overlap=50, top_k_retrieval=20, top_k_rerank=5, similarity_threshold=0.3, device='cuda:0', collection_name='my_documents', persist_directory='./my_chroma_db', max_context_length=4000, generation_temperature=0.1, generation_max_tokens=2048)\n"
     ]
    }
   ],
   "source": [
    "# Display final statistics\n",
    "stats = rag.get_stats()\n",
    "print(\"Final System Statistics:\")\n",
    "print(f\"Document count: {stats['document_count']}\")\n",
    "print(f\"Configuration: {stats['config']}\")"
   ]
  }
 ],
 "metadata": {
  "kernelspec": {
   "display_name": "behrooz",
   "language": "python",
   "name": "python3"
  },
  "language_info": {
   "codemirror_mode": {
    "name": "ipython",
    "version": 3
   },
   "file_extension": ".py",
   "mimetype": "text/x-python",
   "name": "python",
   "nbconvert_exporter": "python",
   "pygments_lexer": "ipython3",
   "version": "3.11.11"
  }
 },
 "nbformat": 4,
 "nbformat_minor": 4
}
